{
 "cells": [
  {
   "cell_type": "code",
   "execution_count": 1,
   "metadata": {},
   "outputs": [
    {
     "name": "stdout",
     "output_type": "stream",
     "text": [
      "Requirement already satisfied: napari in /Users/esb/opt/anaconda3/lib/python3.7/site-packages (0.4.7)\n",
      "Requirement already satisfied: vispy>=0.6.4 in /Users/esb/opt/anaconda3/lib/python3.7/site-packages (from napari) (0.6.6)\n",
      "Requirement already satisfied: wrapt>=1.11.1 in /Users/esb/opt/anaconda3/lib/python3.7/site-packages (from napari) (1.12.1)\n",
      "Requirement already satisfied: magicgui>=0.2.5 in /Users/esb/opt/anaconda3/lib/python3.7/site-packages (from napari) (0.2.9)\n",
      "Requirement already satisfied: cachey>=0.2.1 in /Users/esb/opt/anaconda3/lib/python3.7/site-packages (from napari) (0.2.1)\n",
      "Requirement already satisfied: toolz>=0.10.0 in /Users/esb/opt/anaconda3/lib/python3.7/site-packages (from napari) (0.11.1)\n",
      "Requirement already satisfied: importlib-metadata>=1.5.0 in /Users/esb/opt/anaconda3/lib/python3.7/site-packages (from napari) (4.8.1)\n",
      "Requirement already satisfied: appdirs>=1.4.4 in /Users/esb/opt/anaconda3/lib/python3.7/site-packages (from napari) (1.4.4)\n",
      "Requirement already satisfied: napari-svg>=0.1.4 in /Users/esb/opt/anaconda3/lib/python3.7/site-packages (from napari) (0.1.4)\n",
      "Requirement already satisfied: PyYAML>=5.1 in /Users/esb/opt/anaconda3/lib/python3.7/site-packages (from napari) (5.4.1)\n",
      "Requirement already satisfied: numpy>=1.16.5 in /Users/esb/opt/anaconda3/lib/python3.7/site-packages (from napari) (1.20.3)\n",
      "Requirement already satisfied: tifffile>=2020.2.16 in /Users/esb/opt/anaconda3/lib/python3.7/site-packages (from napari) (2021.4.8)\n",
      "Requirement already satisfied: dask[array]!=2.28.0,>=2.1.0 in /Users/esb/opt/anaconda3/lib/python3.7/site-packages (from napari) (2021.8.1)\n",
      "Requirement already satisfied: napari-console>=0.0.2 in /Users/esb/opt/anaconda3/lib/python3.7/site-packages (from napari) (0.0.3)\n",
      "Requirement already satisfied: napari-plugin-engine>=0.1.9 in /Users/esb/opt/anaconda3/lib/python3.7/site-packages (from napari) (0.1.9)\n",
      "Requirement already satisfied: numpydoc>=0.9.2 in /Users/esb/opt/anaconda3/lib/python3.7/site-packages (from napari) (1.1.0)\n",
      "Requirement already satisfied: qtpy>=1.7.0 in /Users/esb/opt/anaconda3/lib/python3.7/site-packages (from napari) (1.10.0)\n",
      "Requirement already satisfied: psutil>=5.0 in /Users/esb/opt/anaconda3/lib/python3.7/site-packages (from napari) (5.8.0)\n",
      "Requirement already satisfied: Pillow!=7.1.0,!=7.1.1 in /Users/esb/opt/anaconda3/lib/python3.7/site-packages (from napari) (8.3.1)\n",
      "Requirement already satisfied: scipy>=1.2.0 in /Users/esb/opt/anaconda3/lib/python3.7/site-packages (from napari) (1.7.1)\n",
      "Requirement already satisfied: pydantic>=1.8.1 in /Users/esb/opt/anaconda3/lib/python3.7/site-packages (from napari) (1.9.0)\n",
      "Requirement already satisfied: PyOpenGL>=3.1.0 in /Users/esb/opt/anaconda3/lib/python3.7/site-packages (from napari) (3.1.5)\n",
      "Requirement already satisfied: jsonschema>=3.2.0 in /Users/esb/opt/anaconda3/lib/python3.7/site-packages (from napari) (4.4.0)\n",
      "Requirement already satisfied: imageio>=2.5.0 in /Users/esb/opt/anaconda3/lib/python3.7/site-packages (from napari) (2.9.0)\n",
      "Requirement already satisfied: typing-extensions in /Users/esb/opt/anaconda3/lib/python3.7/site-packages (from napari) (3.10.0.0)\n",
      "Requirement already satisfied: heapdict in /Users/esb/opt/anaconda3/lib/python3.7/site-packages (from cachey>=0.2.1->napari) (1.0.1)\n",
      "Requirement already satisfied: cloudpickle>=1.1.1 in /Users/esb/opt/anaconda3/lib/python3.7/site-packages (from dask[array]!=2.28.0,>=2.1.0->napari) (2.0.0)\n",
      "Requirement already satisfied: fsspec>=0.6.0 in /Users/esb/opt/anaconda3/lib/python3.7/site-packages (from dask[array]!=2.28.0,>=2.1.0->napari) (2021.8.1)\n",
      "Requirement already satisfied: partd>=0.3.10 in /Users/esb/opt/anaconda3/lib/python3.7/site-packages (from dask[array]!=2.28.0,>=2.1.0->napari) (1.2.0)\n",
      "Requirement already satisfied: packaging>=20.0 in /Users/esb/opt/anaconda3/lib/python3.7/site-packages (from dask[array]!=2.28.0,>=2.1.0->napari) (21.0)\n",
      "Requirement already satisfied: zipp>=0.5 in /Users/esb/opt/anaconda3/lib/python3.7/site-packages (from importlib-metadata>=1.5.0->napari) (3.5.0)\n",
      "Requirement already satisfied: attrs>=17.4.0 in /Users/esb/opt/anaconda3/lib/python3.7/site-packages (from jsonschema>=3.2.0->napari) (21.2.0)\n",
      "Requirement already satisfied: importlib-resources>=1.4.0 in /Users/esb/opt/anaconda3/lib/python3.7/site-packages (from jsonschema>=3.2.0->napari) (5.4.0)\n",
      "Requirement already satisfied: pyrsistent!=0.17.0,!=0.17.1,!=0.17.2,>=0.14.0 in /Users/esb/opt/anaconda3/lib/python3.7/site-packages (from jsonschema>=3.2.0->napari) (0.17.3)\n",
      "Requirement already satisfied: docstring-parser in /Users/esb/opt/anaconda3/lib/python3.7/site-packages (from magicgui>=0.2.5->napari) (0.7.3)\n",
      "Requirement already satisfied: IPython>=7.7.0 in /Users/esb/opt/anaconda3/lib/python3.7/site-packages (from napari-console>=0.0.2->napari) (7.22.0)\n",
      "Requirement already satisfied: ipykernel>=5.2.0 in /Users/esb/opt/anaconda3/lib/python3.7/site-packages (from napari-console>=0.0.2->napari) (5.5.3)\n",
      "Requirement already satisfied: qtconsole!=4.7.6,>=4.5.1 in /Users/esb/opt/anaconda3/lib/python3.7/site-packages (from napari-console>=0.0.2->napari) (5.1.1)\n",
      "Requirement already satisfied: sphinx>=1.6.5 in /Users/esb/opt/anaconda3/lib/python3.7/site-packages (from numpydoc>=0.9.2->napari) (4.2.0)\n",
      "Requirement already satisfied: Jinja2>=2.3 in /Users/esb/opt/anaconda3/lib/python3.7/site-packages (from numpydoc>=0.9.2->napari) (2.11.3)\n",
      "Requirement already satisfied: freetype-py in /Users/esb/opt/anaconda3/lib/python3.7/site-packages (from vispy>=0.6.4->napari) (2.2.0)\n",
      "Requirement already satisfied: traitlets>=4.1.0 in /Users/esb/opt/anaconda3/lib/python3.7/site-packages (from ipykernel>=5.2.0->napari-console>=0.0.2->napari) (5.1.0)\n",
      "Requirement already satisfied: appnope in /Users/esb/opt/anaconda3/lib/python3.7/site-packages (from ipykernel>=5.2.0->napari-console>=0.0.2->napari) (0.1.2)\n",
      "Requirement already satisfied: jupyter-client in /Users/esb/opt/anaconda3/lib/python3.7/site-packages (from ipykernel>=5.2.0->napari-console>=0.0.2->napari) (7.0.1)\n",
      "Requirement already satisfied: tornado>=4.2 in /Users/esb/opt/anaconda3/lib/python3.7/site-packages (from ipykernel>=5.2.0->napari-console>=0.0.2->napari) (6.1)\n",
      "Requirement already satisfied: jedi>=0.16 in /Users/esb/opt/anaconda3/lib/python3.7/site-packages (from IPython>=7.7.0->napari-console>=0.0.2->napari) (0.18.1)\n",
      "Requirement already satisfied: setuptools>=18.5 in /Users/esb/opt/anaconda3/lib/python3.7/site-packages (from IPython>=7.7.0->napari-console>=0.0.2->napari) (58.0.4)\n",
      "Requirement already satisfied: pickleshare in /Users/esb/opt/anaconda3/lib/python3.7/site-packages (from IPython>=7.7.0->napari-console>=0.0.2->napari) (0.7.5)\n",
      "Requirement already satisfied: backcall in /Users/esb/opt/anaconda3/lib/python3.7/site-packages (from IPython>=7.7.0->napari-console>=0.0.2->napari) (0.2.0)\n",
      "Requirement already satisfied: pexpect>4.3 in /Users/esb/opt/anaconda3/lib/python3.7/site-packages (from IPython>=7.7.0->napari-console>=0.0.2->napari) (4.8.0)\n",
      "Requirement already satisfied: pygments in /Users/esb/opt/anaconda3/lib/python3.7/site-packages (from IPython>=7.7.0->napari-console>=0.0.2->napari) (2.10.0)\n",
      "Requirement already satisfied: decorator in /Users/esb/opt/anaconda3/lib/python3.7/site-packages (from IPython>=7.7.0->napari-console>=0.0.2->napari) (5.0.9)\n",
      "Requirement already satisfied: prompt-toolkit!=3.0.0,!=3.0.1,<3.1.0,>=2.0.0 in /Users/esb/opt/anaconda3/lib/python3.7/site-packages (from IPython>=7.7.0->napari-console>=0.0.2->napari) (3.0.17)\n",
      "Requirement already satisfied: MarkupSafe>=0.23 in /Users/esb/opt/anaconda3/lib/python3.7/site-packages (from Jinja2>=2.3->numpydoc>=0.9.2->napari) (2.0.1)\n",
      "Requirement already satisfied: pyparsing>=2.0.2 in /Users/esb/opt/anaconda3/lib/python3.7/site-packages (from packaging>=20.0->dask[array]!=2.28.0,>=2.1.0->napari) (2.4.7)\n",
      "Requirement already satisfied: locket in /Users/esb/opt/anaconda3/lib/python3.7/site-packages/locket-0.2.1-py3.7.egg (from partd>=0.3.10->dask[array]!=2.28.0,>=2.1.0->napari) (0.2.1)\n",
      "Requirement already satisfied: jupyter-core in /Users/esb/opt/anaconda3/lib/python3.7/site-packages (from qtconsole!=4.7.6,>=4.5.1->napari-console>=0.0.2->napari) (4.7.1)\n",
      "Requirement already satisfied: ipython-genutils in /Users/esb/opt/anaconda3/lib/python3.7/site-packages (from qtconsole!=4.7.6,>=4.5.1->napari-console>=0.0.2->napari) (0.2.0)\n"
     ]
    },
    {
     "name": "stdout",
     "output_type": "stream",
     "text": [
      "Requirement already satisfied: pyzmq>=17.1 in /Users/esb/opt/anaconda3/lib/python3.7/site-packages (from qtconsole!=4.7.6,>=4.5.1->napari-console>=0.0.2->napari) (22.2.1)\n",
      "Requirement already satisfied: sphinxcontrib-jsmath in /Users/esb/opt/anaconda3/lib/python3.7/site-packages (from sphinx>=1.6.5->numpydoc>=0.9.2->napari) (1.0.1)\n",
      "Requirement already satisfied: sphinxcontrib-devhelp in /Users/esb/opt/anaconda3/lib/python3.7/site-packages (from sphinx>=1.6.5->numpydoc>=0.9.2->napari) (1.0.2)\n",
      "Requirement already satisfied: babel>=1.3 in /Users/esb/opt/anaconda3/lib/python3.7/site-packages (from sphinx>=1.6.5->numpydoc>=0.9.2->napari) (2.9.1)\n",
      "Requirement already satisfied: snowballstemmer>=1.1 in /Users/esb/opt/anaconda3/lib/python3.7/site-packages (from sphinx>=1.6.5->numpydoc>=0.9.2->napari) (2.1.0)\n",
      "Requirement already satisfied: sphinxcontrib-applehelp in /Users/esb/opt/anaconda3/lib/python3.7/site-packages (from sphinx>=1.6.5->numpydoc>=0.9.2->napari) (1.0.2)\n",
      "Requirement already satisfied: sphinxcontrib-htmlhelp>=2.0.0 in /Users/esb/opt/anaconda3/lib/python3.7/site-packages (from sphinx>=1.6.5->numpydoc>=0.9.2->napari) (2.0.0)\n",
      "Requirement already satisfied: requests>=2.5.0 in /Users/esb/opt/anaconda3/lib/python3.7/site-packages (from sphinx>=1.6.5->numpydoc>=0.9.2->napari) (2.26.0)\n",
      "Requirement already satisfied: docutils<0.18,>=0.14 in /Users/esb/opt/anaconda3/lib/python3.7/site-packages (from sphinx>=1.6.5->numpydoc>=0.9.2->napari) (0.17.1)\n",
      "Requirement already satisfied: sphinxcontrib-serializinghtml>=1.1.5 in /Users/esb/opt/anaconda3/lib/python3.7/site-packages (from sphinx>=1.6.5->numpydoc>=0.9.2->napari) (1.1.5)\n",
      "Requirement already satisfied: imagesize in /Users/esb/opt/anaconda3/lib/python3.7/site-packages (from sphinx>=1.6.5->numpydoc>=0.9.2->napari) (1.2.0)\n",
      "Requirement already satisfied: sphinxcontrib-qthelp in /Users/esb/opt/anaconda3/lib/python3.7/site-packages (from sphinx>=1.6.5->numpydoc>=0.9.2->napari) (1.0.3)\n",
      "Requirement already satisfied: alabaster<0.8,>=0.7 in /Users/esb/opt/anaconda3/lib/python3.7/site-packages (from sphinx>=1.6.5->numpydoc>=0.9.2->napari) (0.7.12)\n",
      "Requirement already satisfied: pytz>=2015.7 in /Users/esb/opt/anaconda3/lib/python3.7/site-packages (from babel>=1.3->sphinx>=1.6.5->numpydoc>=0.9.2->napari) (2021.1)\n",
      "Requirement already satisfied: parso<0.9.0,>=0.8.0 in /Users/esb/opt/anaconda3/lib/python3.7/site-packages (from jedi>=0.16->IPython>=7.7.0->napari-console>=0.0.2->napari) (0.8.2)\n",
      "Requirement already satisfied: nest-asyncio>=1.5 in /Users/esb/opt/anaconda3/lib/python3.7/site-packages (from jupyter-client->ipykernel>=5.2.0->napari-console>=0.0.2->napari) (1.5.1)\n",
      "Requirement already satisfied: python-dateutil>=2.1 in /Users/esb/opt/anaconda3/lib/python3.7/site-packages (from jupyter-client->ipykernel>=5.2.0->napari-console>=0.0.2->napari) (2.8.2)\n",
      "Requirement already satisfied: entrypoints in /Users/esb/opt/anaconda3/lib/python3.7/site-packages (from jupyter-client->ipykernel>=5.2.0->napari-console>=0.0.2->napari) (0.3)\n",
      "Requirement already satisfied: ptyprocess>=0.5 in /Users/esb/opt/anaconda3/lib/python3.7/site-packages (from pexpect>4.3->IPython>=7.7.0->napari-console>=0.0.2->napari) (0.7.0)\n",
      "Requirement already satisfied: wcwidth in /Users/esb/opt/anaconda3/lib/python3.7/site-packages (from prompt-toolkit!=3.0.0,!=3.0.1,<3.1.0,>=2.0.0->IPython>=7.7.0->napari-console>=0.0.2->napari) (0.2.5)\n",
      "Requirement already satisfied: charset-normalizer~=2.0.0 in /Users/esb/opt/anaconda3/lib/python3.7/site-packages (from requests>=2.5.0->sphinx>=1.6.5->numpydoc>=0.9.2->napari) (2.0.4)\n",
      "Requirement already satisfied: certifi>=2017.4.17 in /Users/esb/opt/anaconda3/lib/python3.7/site-packages (from requests>=2.5.0->sphinx>=1.6.5->numpydoc>=0.9.2->napari) (2021.10.8)\n",
      "Requirement already satisfied: urllib3<1.27,>=1.21.1 in /Users/esb/opt/anaconda3/lib/python3.7/site-packages (from requests>=2.5.0->sphinx>=1.6.5->numpydoc>=0.9.2->napari) (1.26.6)\n",
      "Requirement already satisfied: idna<4,>=2.5 in /Users/esb/opt/anaconda3/lib/python3.7/site-packages (from requests>=2.5.0->sphinx>=1.6.5->numpydoc>=0.9.2->napari) (3.2)\n",
      "Requirement already satisfied: six>=1.5 in /Users/esb/opt/anaconda3/lib/python3.7/site-packages (from python-dateutil>=2.1->jupyter-client->ipykernel>=5.2.0->napari-console>=0.0.2->napari) (1.16.0)\n",
      "\u001b[33mWARNING: You are using pip version 21.3.1; however, version 22.2.2 is available.\n",
      "You should consider upgrading via the '/Users/esb/opt/anaconda3/bin/python -m pip install --upgrade pip' command.\u001b[0m\n"
     ]
    }
   ],
   "source": [
    "!pip install napari"
   ]
  },
  {
   "cell_type": "code",
   "execution_count": 2,
   "metadata": {},
   "outputs": [
    {
     "name": "stderr",
     "output_type": "stream",
     "text": [
      "/Users/esb/opt/anaconda3/lib/python3.7/site-packages/napari/_qt/__init__.py:37: UserWarning: \n",
      "    napari was tested with QT library `>=5.12.3`.\n",
      "    The version installed is 5.9.6. Please report any issues with this\n",
      "    specific QT version at https://github.com/Napari/napari/issues.\n",
      "    \n",
      "  warn(message=warn_message)\n"
     ]
    }
   ],
   "source": [
    "import sys\n",
    "import os\n",
    "import numpy as np\n",
    "from matplotlib import pyplot as plt\n",
    "from matplotlib import cm\n",
    "import matplotlib as mpl\n",
    "import matplotlib.patches as patches\n",
    "from descartes.patch import PolygonPatch\n",
    "from matplotlib.backends.backend_qt5agg import FigureCanvas\n",
    "from matplotlib.figure import Figure\n",
    "\n",
    "import networkx as nx\n",
    "import pygraphviz\n",
    "import pydot\n",
    "from networkx.drawing.nx_agraph import graphviz_layout\n",
    "\n",
    "import random\n",
    "import pandas as pd\n",
    "import napari\n",
    "\n",
    "import random\n",
    "from shapely.geometry import Point,MultiPoint,MultiPolygon,Polygon,box,LineString\n",
    "from shapely import affinity\n",
    "import re\n",
    "\n",
    "from shapely import geometry\n",
    "import pickle\n",
    "import time\n",
    "\n",
    "#import ipywidgets as widgets\n",
    "#import ipywidgets.widgets.interaction\n",
    "#from ipywidgets import *\n",
    "import warnings\n",
    "warnings.simplefilter('ignore', np.RankWarning)\n",
    "\n",
    "from copy import deepcopy\n",
    "from magicgui import magicgui\n",
    "import skimage.measure as measure\n",
    "from dask_image.imread import imread\n",
    "#import src\n",
    "\n",
    "from napari_animation import Animation\n",
    "from napari.utils import nbscreenshot\n",
    "from napari_animation import AnimationWidget\n",
    "\n",
    "from PIL import Image\n",
    "\n",
    "%load_ext autoreload"
   ]
  },
  {
   "cell_type": "code",
   "execution_count": 3,
   "metadata": {},
   "outputs": [],
   "source": [
    "path_to_uj='../uJ_master/uJ/uJ_src_pBGT/python/'\n",
    "sys.path.insert(0, path_to_uj)\n",
    "\n",
    "uj_data_path=\"../../data/\"\n"
   ]
  },
  {
   "cell_type": "code",
   "execution_count": 4,
   "metadata": {},
   "outputs": [],
   "source": [
    "#%autoreload 2\n",
    "##from readroi import *\n",
    "#from DataManagers import *\n",
    "#from TrackingFunctions import *\n",
    "#from PlottingFunctions import *\n",
    "#from AnalysisFunctions import *\n",
    "##from CorrectorFunctionsG import *"
   ]
  },
  {
   "cell_type": "code",
   "execution_count": 4,
   "metadata": {},
   "outputs": [],
   "source": [
    "\n",
    "frame2min=2\n",
    "\n",
    "figxlim=400\n",
    "figylim=240\n",
    "flims=(figxlim,figylim)\n",
    "\n",
    "\n",
    "trap_list=[\"xy03\"]\n",
    "channels=[\"DIC\",\"GFP\",\"DsRed\"]\n",
    "channels_color=[\"gray\",\"green\",\"red\"]\n",
    "vis=[False,False,False]\n",
    "\n",
    "mask_chan=channels[1]"
   ]
  },
  {
   "cell_type": "markdown",
   "metadata": {},
   "source": [
    "## Experimental parameters: pBGT"
   ]
  },
  {
   "cell_type": "code",
   "execution_count": 5,
   "metadata": {},
   "outputs": [],
   "source": [
    "rootDir=uj_data_path+\"pBGT-Ramp/\"\n",
    "\n",
    "expeLabel=\"xy3\"\n",
    "this_trap=expeLabel\n",
    "\n",
    "frame_experiment_start=1;\n",
    "frame_experiment_end=165\n",
    "frame_signal_start=1\n",
    "frame_signal_end=165\n",
    "n_frames=frame_experiment_end-frame_experiment_start+1\n",
    "\n",
    "t_experiment_start=0\n",
    "t_signal_start=(frame_signal_start-frame_experiment_start)*frame2min  \n",
    "t_signal_end=(frame_signal_end-frame_experiment_start)*frame2min\n",
    "t_experiment_end=(frame_experiment_end-frame_experiment_start)*frame2min\n",
    "\n",
    "frames=range(int(frame_experiment_start),int(frame_experiment_end+1))\n",
    "frames_list=[x for x in frames]\n",
    "times=[(this_frame-frame_experiment_start)*frame2min for this_frame in frames]\n",
    "times_hour=[(this_frame-frame_experiment_start)*frame2min/60 for this_frame in frames]\n"
   ]
  },
  {
   "cell_type": "markdown",
   "metadata": {},
   "source": [
    "## Experimental data"
   ]
  },
  {
   "cell_type": "code",
   "execution_count": 6,
   "metadata": {},
   "outputs": [],
   "source": [
    "\n",
    "#dirNameDataLineages=rootDir+'data/lineages/'\n",
    "#dirNameDataCellsTrackedCorrected=rootDir+'data_cells_tracked_corrected/'\n",
    "#dirNameDataLineagesCorrected=rootDir+'data/lineages_corrected/'\n",
    "#dirNameDataNapariLabels=rootDir+'data_napari_labels/'\n",
    "\n",
    "trap_masks_path=[]\n",
    "trap_tif_path=[]\n",
    "for pos in trap_list:\n",
    "    tif_path=rootDir+\"data_raw/\"+pos+\"/\"\n",
    "    trap_tif_path.append(tif_path)\n",
    "    masks_path=rootDir+\"data_masks/\"+expeLabel+\"/\"+mask_chan+\"/\"\n",
    "    trap_masks_path.append(masks_path)\n",
    "    "
   ]
  },
  {
   "cell_type": "markdown",
   "metadata": {},
   "source": [
    "## Supplementary Figure 2"
   ]
  },
  {
   "cell_type": "code",
   "execution_count": 7,
   "metadata": {},
   "outputs": [
    {
     "data": {
      "text/plain": [
       "[<Image layer 'Cells' at 0x132cf2f10>]"
      ]
     },
     "execution_count": 7,
     "metadata": {},
     "output_type": "execute_result"
    }
   ],
   "source": [
    "\n",
    "%gui qt\n",
    "\n",
    "cellViewer=napari.Viewer()\n",
    "cellViewer.title=\"Supp Movie 1\"\n",
    "\n",
    "trap_index=0\n",
    "    \n",
    "dx1=-200\n",
    "dx2=200\n",
    "dy1=-120\n",
    "dy2=120\n",
    "\n",
    "\n",
    "#tif_path=trap_tif_path[trap_index]\n",
    "\n",
    "tif_path=\"/Volumes/GoogleDrive/My Drive/SYNC_Projects/pBGT/ms/data/pBGT-Ramp/data_raw/\"\n",
    "mask_path=\"/Volumes/GoogleDrive/My Drive/SYNC_Projects/pBGT/ms/data/pBGT-Ramp/data_masks/\"\n",
    "\n",
    "#GFP\n",
    "GFP_file=tif_path+\"xy03/xy3_gfp.tif\"\n",
    "cellViewer.open(GFP_file,blending='additive',colormap=\"green\",name=\"GFP\",visible=True,translate=[dy1,dx1], opacity=1)\n",
    "\n",
    "#RFP\n",
    "RFP_file=tif_path+\"xy03/xy3_rfp.tif\"\n",
    "cellViewer.open(RFP_file,blending='additive',colormap=\"magenta\",name=\"RFP\",visible=True,translate=[dy1,dx2], opacity=1)\n",
    "\n",
    "#Mask\n",
    "MASK_file=tif_path+\"xy03/xy3_mask.tif\"\n",
    "cellViewer.open(MASK_file,blending='additive',colormap=\"gray\",name=\"Mask\",visible=False,translate=[dy2,dx2], opacity=0.2)\n",
    "\n",
    "#DIC\n",
    "DIC_file=tif_path+\"xy03/xy3_dic.tif\"\n",
    "cellViewer.open(DIC_file,blending='additive',colormap=\"gray\",name=\"Dic\",visible=True,translate=[dy2,dx1], opacity=1)\n",
    "\n",
    "#GFP+RFP\n",
    "cellViewer.open(GFP_file,blending='additive',colormap=\"green\",name=\"GFP\",visible=True,translate=[dy2,dx2], opacity=0.5)\n",
    "\n",
    "#RFP_file=tif_path+\"xy03/xy3_rfp.tif\"\n",
    "cellViewer.open(RFP_file,blending='additive',colormap=\"magenta\",name=\"RFP\",visible=True,translate=[dy2,dx2], opacity=0.5)\n",
    "\n",
    "\n",
    "\n",
    "#Selected cells\n",
    "DIC_file=tif_path+\"xy03/xy3_mask_selected_outline.tif\"\n",
    "cellViewer.open(DIC_file,blending='additive',colormap=\"yellow\",name=\"Cells\",visible=True,translate=[dy2-1,dx2-2], opacity=0.75)\n",
    "\n",
    "\n",
    "#Cells\n",
    "#for icell in range(1,4):\n",
    "#    cell_file=mask_path+\"xy3_mask_cell\"+str(icell)+\".tif\"\n",
    "#    cellViewer.open(cell_file,blending='additive',colormap=\"gray\",name=\"Cell\"+str(icell),visible=True,translate=[dy2,dx])    \n",
    "    \n",
    "    "
   ]
  },
  {
   "cell_type": "code",
   "execution_count": null,
   "metadata": {},
   "outputs": [],
   "source": []
  }
 ],
 "metadata": {
  "kernelspec": {
   "display_name": "Python 3",
   "language": "python",
   "name": "python3"
  },
  "language_info": {
   "codemirror_mode": {
    "name": "ipython",
    "version": 3
   },
   "file_extension": ".py",
   "mimetype": "text/x-python",
   "name": "python",
   "nbconvert_exporter": "python",
   "pygments_lexer": "ipython3",
   "version": "3.7.6"
  }
 },
 "nbformat": 4,
 "nbformat_minor": 4
}
