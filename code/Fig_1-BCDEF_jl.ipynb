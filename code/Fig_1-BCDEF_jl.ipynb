{
 "cells": [
  {
   "cell_type": "markdown",
   "metadata": {
    "id": "Zw6NX6b1ouLf"
   },
   "source": [
    "\"\"\"\n",
    "This script is used to produce and analyze data to make Figures 1BCDEF of the manuscript\n",
    "'Plasmid-mediated phenotypic noise leads to transient antibiotic resistance in bacteria'.\n",
    "\n",
    "MIT License\n",
    "\n",
    "Copyright (c) 2023 JCRHB/RPM\n",
    "\n",
    "\"\"\";\n"
   ]
  },
  {
   "cell_type": "markdown",
   "metadata": {
    "id": "gacaxGtOon_r"
   },
   "source": [
    "## Mount Gdrive"
   ]
  },
  {
   "cell_type": "code",
   "execution_count": null,
   "metadata": {
    "colab": {
     "base_uri": "https://localhost:8080/"
    },
    "executionInfo": {
     "elapsed": 18069,
     "status": "ok",
     "timestamp": 1701872602482,
     "user": {
      "displayName": "J. Carlos R. Hernandez-Beltran",
      "userId": "15303466688252236754"
     },
     "user_tz": -60
    },
    "id": "sBaz0r-6d4el",
    "outputId": "ddcc047c-4a74-4c52-c9a7-90ccf60d3bcb"
   },
   "outputs": [
    {
     "name": "stdout",
     "output_type": "stream",
     "text": [
      "Mounted at /content/drive\n"
     ]
    }
   ],
   "source": [
    "from google.colab import drive\n",
    "drive.mount('/content/drive')"
   ]
  },
  {
   "cell_type": "markdown",
   "metadata": {
    "id": "0v0wxLoRpP6x"
   },
   "source": [
    "## Install Julia in server"
   ]
  },
  {
   "cell_type": "code",
   "execution_count": null,
   "metadata": {
    "colab": {
     "base_uri": "https://localhost:8080/"
    },
    "executionInfo": {
     "elapsed": 46676,
     "status": "ok",
     "timestamp": 1701872650878,
     "user": {
      "displayName": "J. Carlos R. Hernandez-Beltran",
      "userId": "15303466688252236754"
     },
     "user_tz": -60
    },
    "id": "PMGwZ7aFJL8Y",
    "outputId": "ae473d26-0b38-4992-b673-e37d9b5dd956"
   },
   "outputs": [
    {
     "name": "stdout",
     "output_type": "stream",
     "text": [
      "\u001b[33m\u001b[1m┌ \u001b[22m\u001b[39m\u001b[33m\u001b[1mWarning: \u001b[22m\u001b[39mThe Pkg REPL mode is intended for interactive use only, and should not be used from scripts. It is recommended to use the functional API instead.\n",
      "\u001b[33m\u001b[1m└ \u001b[22m\u001b[39m\u001b[90m@ Pkg.REPLMode /cache/build/default-aws-shared0-3/julialang/julia-release-1-dot-8/usr/share/julia/stdlib/v1.8/Pkg/src/REPLMode/REPLMode.jl:379\u001b[39m\n",
      "\u001b[32m\u001b[1m  Installing\u001b[22m\u001b[39m known registries into `~/.julia`\n",
      "\u001b[?25h\u001b[2K\u001b[32m\u001b[1m    Updating\u001b[22m\u001b[39m registry at `~/.julia/registries/General.toml`\n",
      "\u001b[32m\u001b[1m   Resolving\u001b[22m\u001b[39m package versions...\n",
      "\u001b[S\u001b[1A\u001b[2K\u001b[1G\u001b[32m\u001b[1m   Installed\u001b[22m\u001b[39m JLLWrappers ───── v1.5.0\n",
      "\u001b[S\u001b[1A\u001b[2K\u001b[1G\u001b[32m\u001b[1m   Installed\u001b[22m\u001b[39m Parsers ───────── v2.8.0\n",
      "\u001b[S\u001b[1A\u001b[2K\u001b[1G\u001b[32m\u001b[1m   Installed\u001b[22m\u001b[39m Conda ─────────── v1.10.0\n",
      "\u001b[S\u001b[1A\u001b[2K\u001b[1G\u001b[32m\u001b[1m   Installed\u001b[22m\u001b[39m IJulia ────────── v1.24.2\n",
      "\u001b[S\u001b[1A\u001b[2K\u001b[1G\u001b[32m\u001b[1m   Installed\u001b[22m\u001b[39m ZMQ ───────────── v1.2.2\n",
      "\u001b[S\u001b[1A\u001b[2K\u001b[1G\u001b[32m\u001b[1m   Installed\u001b[22m\u001b[39m PrecompileTools ─ v1.2.0\n",
      "\u001b[S\u001b[1A\u001b[2K\u001b[1G\u001b[32m\u001b[1m   Installed\u001b[22m\u001b[39m Preferences ───── v1.4.1\n",
      "\u001b[S\u001b[1A\u001b[2K\u001b[1G\u001b[32m\u001b[1m   Installed\u001b[22m\u001b[39m libsodium_jll ─── v1.0.20+0\n",
      "\u001b[S\u001b[1A\u001b[2K\u001b[1G\u001b[32m\u001b[1m   Installed\u001b[22m\u001b[39m ZeroMQ_jll ────── v4.3.4+0\n",
      "\u001b[S\u001b[1A\u001b[2K\u001b[1G\u001b[32m\u001b[1m   Installed\u001b[22m\u001b[39m SoftGlobalScope ─ v1.1.0\n",
      "\u001b[S\u001b[1A\u001b[2K\u001b[1G\u001b[32m\u001b[1m   Installed\u001b[22m\u001b[39m VersionParsing ── v1.3.0\n",
      "\u001b[S\u001b[1A\u001b[2K\u001b[1G\u001b[32m\u001b[1m   Installed\u001b[22m\u001b[39m MbedTLS ───────── v1.1.9\n",
      "\u001b[S\u001b[1A\u001b[2K\u001b[1G\u001b[32m\u001b[1m   Installed\u001b[22m\u001b[39m JSON ──────────── v0.21.4\n",
      "\u001b[?25h\u001b[2K\u001b[S\u001b[1A\u001b[2K\u001b[1G\u001b[32m\u001b[1m Downloading\u001b[22m\u001b[39m artifact: ZeroMQ\n",
      "\u001b[?25h\u001b[2K\u001b[1A\u001b[2K\u001b[32m\u001b[1m  Downloaded\u001b[22m\u001b[39m artifact: ZeroMQ\n",
      "\u001b[S\u001b[1A\u001b[2K\u001b[1G\u001b[32m\u001b[1m Downloading\u001b[22m\u001b[39m artifact: libsodium\n",
      "\u001b[?25h\u001b[2K\u001b[1A\u001b[2K\u001b[32m\u001b[1m  Downloaded\u001b[22m\u001b[39m artifact: libsodium\n",
      "\u001b[32m\u001b[1m    Updating\u001b[22m\u001b[39m `~/.julia/environments/v1.8/Project.toml`\n",
      " \u001b[90m [7073ff75] \u001b[39m\u001b[92m+ IJulia v1.24.2\u001b[39m\n",
      "\u001b[32m\u001b[1m    Updating\u001b[22m\u001b[39m `~/.julia/environments/v1.8/Manifest.toml`\n",
      " \u001b[90m [8f4d0f93] \u001b[39m\u001b[92m+ Conda v1.10.0\u001b[39m\n",
      " \u001b[90m [7073ff75] \u001b[39m\u001b[92m+ IJulia v1.24.2\u001b[39m\n",
      " \u001b[90m [692b3bcd] \u001b[39m\u001b[92m+ JLLWrappers v1.5.0\u001b[39m\n",
      " \u001b[90m [682c06a0] \u001b[39m\u001b[92m+ JSON v0.21.4\u001b[39m\n",
      " \u001b[90m [739be429] \u001b[39m\u001b[92m+ MbedTLS v1.1.9\u001b[39m\n",
      " \u001b[90m [69de0a69] \u001b[39m\u001b[92m+ Parsers v2.8.0\u001b[39m\n",
      " \u001b[90m [aea7be01] \u001b[39m\u001b[92m+ PrecompileTools v1.2.0\u001b[39m\n",
      " \u001b[90m [21216c6a] \u001b[39m\u001b[92m+ Preferences v1.4.1\u001b[39m\n",
      " \u001b[90m [b85f4697] \u001b[39m\u001b[92m+ SoftGlobalScope v1.1.0\u001b[39m\n",
      " \u001b[90m [81def892] \u001b[39m\u001b[92m+ VersionParsing v1.3.0\u001b[39m\n",
      " \u001b[90m [c2297ded] \u001b[39m\u001b[92m+ ZMQ v1.2.2\u001b[39m\n",
      " \u001b[90m [8f1865be] \u001b[39m\u001b[92m+ ZeroMQ_jll v4.3.4+0\u001b[39m\n",
      " \u001b[90m [a9144af2] \u001b[39m\u001b[92m+ libsodium_jll v1.0.20+0\u001b[39m\n",
      " \u001b[90m [0dad84c5] \u001b[39m\u001b[92m+ ArgTools v1.1.1\u001b[39m\n",
      " \u001b[90m [56f22d72] \u001b[39m\u001b[92m+ Artifacts\u001b[39m\n",
      " \u001b[90m [2a0f44e3] \u001b[39m\u001b[92m+ Base64\u001b[39m\n",
      " \u001b[90m [ade2ca70] \u001b[39m\u001b[92m+ Dates\u001b[39m\n",
      " \u001b[90m [f43a241f] \u001b[39m\u001b[92m+ Downloads v1.6.0\u001b[39m\n",
      " \u001b[90m [7b1f6079] \u001b[39m\u001b[92m+ FileWatching\u001b[39m\n",
      " \u001b[90m [b77e0a4c] \u001b[39m\u001b[92m+ InteractiveUtils\u001b[39m\n",
      " \u001b[90m [b27032c2] \u001b[39m\u001b[92m+ LibCURL v0.6.3\u001b[39m\n",
      " \u001b[90m [76f85450] \u001b[39m\u001b[92m+ LibGit2\u001b[39m\n",
      " \u001b[90m [8f399da3] \u001b[39m\u001b[92m+ Libdl\u001b[39m\n",
      " \u001b[90m [56ddb016] \u001b[39m\u001b[92m+ Logging\u001b[39m\n",
      " \u001b[90m [d6f4376e] \u001b[39m\u001b[92m+ Markdown\u001b[39m\n",
      " \u001b[90m [a63ad114] \u001b[39m\u001b[92m+ Mmap\u001b[39m\n",
      " \u001b[90m [ca575930] \u001b[39m\u001b[92m+ NetworkOptions v1.2.0\u001b[39m\n",
      " \u001b[90m [44cfe95a] \u001b[39m\u001b[92m+ Pkg v1.8.0\u001b[39m\n",
      " \u001b[90m [de0858da] \u001b[39m\u001b[92m+ Printf\u001b[39m\n",
      " \u001b[90m [3fa0cd96] \u001b[39m\u001b[92m+ REPL\u001b[39m\n",
      " \u001b[90m [9a3f8284] \u001b[39m\u001b[92m+ Random\u001b[39m\n",
      " \u001b[90m [ea8e919c] \u001b[39m\u001b[92m+ SHA v0.7.0\u001b[39m\n",
      " \u001b[90m [9e88b42a] \u001b[39m\u001b[92m+ Serialization\u001b[39m\n",
      " \u001b[90m [6462fe0b] \u001b[39m\u001b[92m+ Sockets\u001b[39m\n",
      " \u001b[90m [fa267f1f] \u001b[39m\u001b[92m+ TOML v1.0.0\u001b[39m\n",
      " \u001b[90m [a4e569a6] \u001b[39m\u001b[92m+ Tar v1.10.1\u001b[39m\n",
      " \u001b[90m [8dfed614] \u001b[39m\u001b[92m+ Test\u001b[39m\n",
      " \u001b[90m [cf7118a7] \u001b[39m\u001b[92m+ UUIDs\u001b[39m\n",
      " \u001b[90m [4ec0a83e] \u001b[39m\u001b[92m+ Unicode\u001b[39m\n",
      " \u001b[90m [deac9b47] \u001b[39m\u001b[92m+ LibCURL_jll v7.84.0+0\u001b[39m\n",
      " \u001b[90m [29816b5a] \u001b[39m\u001b[92m+ LibSSH2_jll v1.10.2+0\u001b[39m\n",
      " \u001b[90m [c8ffd9c3] \u001b[39m\u001b[92m+ MbedTLS_jll v2.28.0+0\u001b[39m\n",
      " \u001b[90m [14a3606d] \u001b[39m\u001b[92m+ MozillaCACerts_jll v2022.2.1\u001b[39m\n",
      " \u001b[90m [83775a58] \u001b[39m\u001b[92m+ Zlib_jll v1.2.12+3\u001b[39m\n",
      " \u001b[90m [8e850ede] \u001b[39m\u001b[92m+ nghttp2_jll v1.48.0+0\u001b[39m\n",
      " \u001b[90m [3f19e933] \u001b[39m\u001b[92m+ p7zip_jll v17.4.0+0\u001b[39m\n",
      "\u001b[?25l\u001b[S\u001b[1A\u001b[2K\u001b[1G\u001b[32m\u001b[1m    Building\u001b[22m\u001b[39m Conda ─→ `~/.julia/scratchspaces/44cfe95a-1eb2-52ea-b672-e2afdf69b78f/51cab8e982c5b598eea9c8ceaced4b58d9dd37c9/build.log`\n",
      "\u001b[S\u001b[1A\u001b[2K\u001b[1G\u001b[32m\u001b[1m    Building\u001b[22m\u001b[39m IJulia → `~/.julia/scratchspaces/44cfe95a-1eb2-52ea-b672-e2afdf69b78f/47ac8cc196b81001a711f4b2c12c97372338f00c/build.log`\n",
      "\u001b[?25h\u001b[2K\u001b[32m\u001b[1mPrecompiling\u001b[22m\u001b[39m project...\n",
      "\u001b[?25l  \u001b[36m\u001b[1mProgress\u001b[22m\u001b[39m [>                                        ]  0/10\n",
      "  \u001b[90m◑\u001b[39m \u001b[90mMbedTLS_jll\u001b[39m\n",
      "  \u001b[90m◒\u001b[39m \u001b[90mZlib_jll\u001b[39m\n",
      "  \u001b[90m◐\u001b[39m \u001b[90mSoftGlobalScope\u001b[39m\n",
      "\u001b[4A\u001b[1G\u001b[0J\n",
      "  \u001b[90m◒\u001b[39m \u001b[90mMbedTLS_jll\u001b[39m\n",
      "  \u001b[90m◐\u001b[39m \u001b[90mZlib_jll\u001b[39m\n",
      "  \u001b[90m◓\u001b[39m \u001b[90mSoftGlobalScope\u001b[39m\n",
      "\u001b[4A\u001b[1G\u001b[0J  \u001b[36m\u001b[1mProgress\u001b[22m\u001b[39m [>                                        ]  0/10\n",
      "  \u001b[90m◐\u001b[39m \u001b[90mMbedTLS_jll\u001b[39m\n",
      "  \u001b[90m◓\u001b[39m \u001b[90mZlib_jll\u001b[39m\n",
      "  \u001b[90m◑\u001b[39m \u001b[90mSoftGlobalScope\u001b[39m\n",
      "\u001b[4A\u001b[1G\u001b[0J  \u001b[36m\u001b[1mProgress\u001b[22m\u001b[39m [>                                        ]  0/10\n",
      "  \u001b[90m◓\u001b[39m \u001b[90mMbedTLS_jll\u001b[39m\n",
      "  \u001b[90m◑\u001b[39m \u001b[90mZlib_jll\u001b[39m\n",
      "  \u001b[90m◒\u001b[39m \u001b[90mSoftGlobalScope\u001b[39m\n",
      "\u001b[4A\u001b[1G\u001b[0J  \u001b[36m\u001b[1mProgress\u001b[22m\u001b[39m [>                                        ]  0/10\n",
      "  \u001b[90m◑\u001b[39m \u001b[90mMbedTLS_jll\u001b[39m\n",
      "  \u001b[90m◒\u001b[39m \u001b[90mZlib_jll\u001b[39m\n",
      "  \u001b[90m◐\u001b[39m \u001b[90mSoftGlobalScope\u001b[39m\n",
      "\u001b[4A\u001b[1G\u001b[0J  \u001b[36m\u001b[1mProgress\u001b[22m\u001b[39m [>                                        ]  0/10\n",
      "  \u001b[90m◒\u001b[39m \u001b[90mMbedTLS_jll\u001b[39m\n",
      "  \u001b[90m◐\u001b[39m \u001b[90mZlib_jll\u001b[39m\n",
      "  \u001b[90m◓\u001b[39m \u001b[90mSoftGlobalScope\u001b[39m\n",
      "\u001b[4A\u001b[1G\u001b[0J  \u001b[36m\u001b[1mProgress\u001b[22m\u001b[39m [>                                        ]  0/10\n",
      "  \u001b[90m◐\u001b[39m \u001b[90mMbedTLS_jll\u001b[39m\n",
      "  \u001b[90m◓\u001b[39m \u001b[90mZlib_jll\u001b[39m\n",
      "  \u001b[90m◑\u001b[39m \u001b[90mSoftGlobalScope\u001b[39m\n",
      "\u001b[4A\u001b[1G\u001b[0J  \u001b[36m\u001b[1mProgress\u001b[22m\u001b[39m [>                                        ]  0/10\n",
      "  \u001b[90m◓\u001b[39m \u001b[90mMbedTLS_jll\u001b[39m\n",
      "  \u001b[90m◑\u001b[39m \u001b[90mZlib_jll\u001b[39m\n",
      "  \u001b[90m◒\u001b[39m \u001b[90mSoftGlobalScope\u001b[39m\n",
      "\u001b[4A\u001b[1G\u001b[0J  \u001b[36m\u001b[1mProgress\u001b[22m\u001b[39m [>                                        ]  0/10\n",
      "  \u001b[90m◑\u001b[39m \u001b[90mMbedTLS_jll\u001b[39m\n",
      "  \u001b[90m◒\u001b[39m \u001b[90mZlib_jll\u001b[39m\n",
      "  \u001b[90m◐\u001b[39m \u001b[90mSoftGlobalScope\u001b[39m\n",
      "\u001b[4A\u001b[1G\u001b[0J  \u001b[36m\u001b[1mProgress\u001b[22m\u001b[39m [>                                        ]  0/10\n",
      "  \u001b[90m◒\u001b[39m \u001b[90mMbedTLS_jll\u001b[39m\n",
      "  \u001b[90m◐\u001b[39m \u001b[90mZlib_jll\u001b[39m\n",
      "  \u001b[90m◓\u001b[39m \u001b[90mSoftGlobalScope\u001b[39m\n",
      "\u001b[4A\u001b[1G\u001b[0J  \u001b[36m\u001b[1mProgress\u001b[22m\u001b[39m [>                                        ]  0/10\n",
      "  \u001b[90m◐\u001b[39m \u001b[90mMbedTLS_jll\u001b[39m\n",
      "  \u001b[90m◓\u001b[39m \u001b[90mZlib_jll\u001b[39m\n",
      "  \u001b[90m◑\u001b[39m \u001b[90mSoftGlobalScope\u001b[39m\n",
      "\u001b[4A\u001b[1G\u001b[0J  \u001b[36m\u001b[1mProgress\u001b[22m\u001b[39m [>                                        ]  0/10\n",
      "  \u001b[90m◓\u001b[39m \u001b[90mMbedTLS_jll\u001b[39m\n",
      "  \u001b[90m◑\u001b[39m \u001b[90mZlib_jll\u001b[39m\n",
      "  \u001b[90m◒\u001b[39m \u001b[90mSoftGlobalScope\u001b[39m\n",
      "\u001b[4A\u001b[1G\u001b[0J  \u001b[36m\u001b[1mProgress\u001b[22m\u001b[39m [>                                        ]  0/10\n",
      "  \u001b[90m◑\u001b[39m \u001b[90mMbedTLS_jll\u001b[39m\n",
      "  \u001b[90m◒\u001b[39m \u001b[90mZlib_jll\u001b[39m\n",
      "  \u001b[90m◐\u001b[39m \u001b[90mSoftGlobalScope\u001b[39m\n",
      "\u001b[4A\u001b[1G\u001b[0J  \u001b[36m\u001b[1mProgress\u001b[22m\u001b[39m [========>                                ]  2/10\n",
      "\u001b[32m  ✓ \u001b[39m\u001b[90mMbedTLS_jll\u001b[39m\n",
      "\u001b[32m  ✓ \u001b[39m\u001b[90mZlib_jll\u001b[39m\n",
      "  \u001b[90m◓\u001b[39m \u001b[90mSoftGlobalScope\u001b[39m\n",
      "  \u001b[90m◐\u001b[39m \u001b[90mJLLWrappers\u001b[39m\n",
      "  \u001b[90m◑\u001b[39m \u001b[90mLibSSH2_jll\u001b[39m\n",
      "\u001b[6A\u001b[1G\u001b[0J  \u001b[36m\u001b[1mProgress\u001b[22m\u001b[39m [========>                                ]  2/10\n",
      "\u001b[32m  ✓ \u001b[39m\u001b[90mMbedTLS_jll\u001b[39m\n",
      "\u001b[32m  ✓ \u001b[39m\u001b[90mZlib_jll\u001b[39m\n",
      "  \u001b[90m◑\u001b[39m \u001b[90mSoftGlobalScope\u001b[39m\n",
      "  \u001b[90m◓\u001b[39m \u001b[90mJLLWrappers\u001b[39m\n",
      "  \u001b[90m◒\u001b[39m \u001b[90mLibSSH2_jll\u001b[39m\n",
      "\u001b[6A\u001b[1G\u001b[0J  \u001b[36m\u001b[1mProgress\u001b[22m\u001b[39m [============>                            ]  3/10\n",
      "\u001b[32m  ✓ \u001b[39m\u001b[90mMbedTLS_jll\u001b[39m\n",
      "\u001b[32m  ✓ \u001b[39m\u001b[90mZlib_jll\u001b[39m\n",
      "\u001b[32m  ✓ \u001b[39m\u001b[90mSoftGlobalScope\u001b[39m\n",
      "  \u001b[90m◑\u001b[39m \u001b[90mJLLWrappers\u001b[39m\n",
      "  \u001b[90m◐\u001b[39m \u001b[90mLibSSH2_jll\u001b[39m\n",
      "  \u001b[90m◓\u001b[39m \u001b[90mMbedTLS\u001b[39m\n",
      "\u001b[7A\u001b[1G\u001b[0J  \u001b[36m\u001b[1mProgress\u001b[22m\u001b[39m [============>                            ]  3/10\n",
      "\u001b[32m  ✓ \u001b[39m\u001b[90mMbedTLS_jll\u001b[39m\n",
      "\u001b[32m  ✓ \u001b[39m\u001b[90mZlib_jll\u001b[39m\n",
      "\u001b[32m  ✓ \u001b[39m\u001b[90mSoftGlobalScope\u001b[39m\n",
      "  \u001b[90m◒\u001b[39m \u001b[90mJLLWrappers\u001b[39m\n",
      "  \u001b[90m◓\u001b[39m \u001b[90mLibSSH2_jll\u001b[39m\n",
      "  \u001b[90m◑\u001b[39m \u001b[90mMbedTLS\u001b[39m\n",
      "\u001b[7A\u001b[1G\u001b[0J  \u001b[36m\u001b[1mProgress\u001b[22m\u001b[39m [============>                            ]  3/10\n",
      "\u001b[32m  ✓ \u001b[39m\u001b[90mMbedTLS_jll\u001b[39m\n",
      "\u001b[32m  ✓ \u001b[39m\u001b[90mZlib_jll\u001b[39m\n",
      "\u001b[32m  ✓ \u001b[39m\u001b[90mSoftGlobalScope\u001b[39m\n",
      "  \u001b[90m◐\u001b[39m \u001b[90mJLLWrappers\u001b[39m\n",
      "  \u001b[90m◑\u001b[39m \u001b[90mLibSSH2_jll\u001b[39m\n",
      "  \u001b[90m◒\u001b[39m \u001b[90mMbedTLS\u001b[39m\n",
      "\u001b[7A\u001b[1G\u001b[0J  \u001b[36m\u001b[1mProgress\u001b[22m\u001b[39m [============>                            ]  3/10\n",
      "\u001b[32m  ✓ \u001b[39m\u001b[90mMbedTLS_jll\u001b[39m\n",
      "\u001b[32m  ✓ \u001b[39m\u001b[90mZlib_jll\u001b[39m\n",
      "\u001b[32m  ✓ \u001b[39m\u001b[90mSoftGlobalScope\u001b[39m\n",
      "  \u001b[90m◓\u001b[39m \u001b[90mJLLWrappers\u001b[39m\n",
      "  \u001b[90m◒\u001b[39m \u001b[90mLibSSH2_jll\u001b[39m\n",
      "  \u001b[90m◐\u001b[39m \u001b[90mMbedTLS\u001b[39m\n",
      "\u001b[7A\u001b[1G\u001b[0J  \u001b[36m\u001b[1mProgress\u001b[22m\u001b[39m [============>                            ]  3/10\n",
      "\u001b[32m  ✓ \u001b[39m\u001b[90mMbedTLS_jll\u001b[39m\n",
      "\u001b[32m  ✓ \u001b[39m\u001b[90mZlib_jll\u001b[39m\n",
      "\u001b[32m  ✓ \u001b[39m\u001b[90mSoftGlobalScope\u001b[39m\n",
      "  \u001b[90m◑\u001b[39m \u001b[90mJLLWrappers\u001b[39m\n",
      "  \u001b[90m◐\u001b[39m \u001b[90mLibSSH2_jll\u001b[39m\n",
      "  \u001b[90m◓\u001b[39m \u001b[90mMbedTLS\u001b[39m\n",
      "\u001b[7A\u001b[1G\u001b[0J  \u001b[36m\u001b[1mProgress\u001b[22m\u001b[39m [============>                            ]  3/10\n",
      "\u001b[32m  ✓ \u001b[39m\u001b[90mMbedTLS_jll\u001b[39m\n",
      "\u001b[32m  ✓ \u001b[39m\u001b[90mZlib_jll\u001b[39m\n",
      "\u001b[32m  ✓ \u001b[39m\u001b[90mSoftGlobalScope\u001b[39m\n",
      "  \u001b[90m◒\u001b[39m \u001b[90mJLLWrappers\u001b[39m\n",
      "  \u001b[90m◓\u001b[39m \u001b[90mLibSSH2_jll\u001b[39m\n",
      "  \u001b[90m◑\u001b[39m \u001b[90mMbedTLS\u001b[39m\n",
      "\u001b[7A\u001b[1G\u001b[0J  \u001b[36m\u001b[1mProgress\u001b[22m\u001b[39m [================>                        ]  4/10\n",
      "\u001b[32m  ✓ \u001b[39m\u001b[90mMbedTLS_jll\u001b[39m\n",
      "\u001b[32m  ✓ \u001b[39m\u001b[90mZlib_jll\u001b[39m\n",
      "\u001b[32m  ✓ \u001b[39m\u001b[90mSoftGlobalScope\u001b[39m\n",
      "  \u001b[90m◐\u001b[39m \u001b[90mJLLWrappers\u001b[39m\n",
      "\u001b[32m  ✓ \u001b[39m\u001b[90mLibSSH2_jll\u001b[39m\n",
      "  \u001b[90m◒\u001b[39m \u001b[90mMbedTLS\u001b[39m\n",
      "\u001b[7A\u001b[1G\u001b[0J  \u001b[36m\u001b[1mProgress\u001b[22m\u001b[39m [================>                        ]  4/10\n",
      "\u001b[32m  ✓ \u001b[39m\u001b[90mMbedTLS_jll\u001b[39m\n",
      "\u001b[32m  ✓ \u001b[39m\u001b[90mZlib_jll\u001b[39m\n",
      "\u001b[32m  ✓ \u001b[39m\u001b[90mSoftGlobalScope\u001b[39m\n",
      "  \u001b[90m◓\u001b[39m \u001b[90mJLLWrappers\u001b[39m\n",
      "\u001b[32m  ✓ \u001b[39m\u001b[90mLibSSH2_jll\u001b[39m\n",
      "  \u001b[90m◐\u001b[39m \u001b[90mMbedTLS\u001b[39m\n",
      "\u001b[7A\u001b[1G\u001b[0J  \u001b[36m\u001b[1mProgress\u001b[22m\u001b[39m [================>                        ]  4/10\n",
      "\u001b[32m  ✓ \u001b[39m\u001b[90mMbedTLS_jll\u001b[39m\n",
      "\u001b[32m  ✓ \u001b[39m\u001b[90mZlib_jll\u001b[39m\n",
      "\u001b[32m  ✓ \u001b[39m\u001b[90mSoftGlobalScope\u001b[39m\n",
      "  \u001b[90m◑\u001b[39m \u001b[90mJLLWrappers\u001b[39m\n",
      "\u001b[32m  ✓ \u001b[39m\u001b[90mLibSSH2_jll\u001b[39m\n",
      "  \u001b[90m◓\u001b[39m \u001b[90mMbedTLS\u001b[39m\n",
      "\u001b[7A\u001b[1G\u001b[0J  \u001b[36m\u001b[1mProgress\u001b[22m\u001b[39m [====================>                    ]  5/10\n",
      "\u001b[32m  ✓ \u001b[39m\u001b[90mSoftGlobalScope\u001b[39m\n",
      "\u001b[32m  ✓ \u001b[39m\u001b[90mJLLWrappers\u001b[39m\n",
      "\u001b[32m  ✓ \u001b[39m\u001b[90mLibSSH2_jll\u001b[39m\n",
      "  \u001b[90m◑\u001b[39m \u001b[90mMbedTLS\u001b[39m\n",
      "  \u001b[90m◓\u001b[39m \u001b[90mlibsodium_jll\u001b[39m\n",
      "\u001b[6A\u001b[1G\u001b[0J  \u001b[36m\u001b[1mProgress\u001b[22m\u001b[39m [====================>                    ]  5/10\n",
      "\u001b[32m  ✓ \u001b[39m\u001b[90mJLLWrappers\u001b[39m\n",
      "\u001b[32m  ✓ \u001b[39m\u001b[90mLibSSH2_jll\u001b[39m\n",
      "  \u001b[90m◒\u001b[39m \u001b[90mMbedTLS\u001b[39m\n",
      "  \u001b[90m◑\u001b[39m \u001b[90mlibsodium_jll\u001b[39m\n",
      "\u001b[5A\u001b[1G\u001b[0J  \u001b[36m\u001b[1mProgress\u001b[22m\u001b[39m [====================>                    ]  5/10\n",
      "\u001b[32m  ✓ \u001b[39m\u001b[90mJLLWrappers\u001b[39m\n",
      "\u001b[32m  ✓ \u001b[39m\u001b[90mLibSSH2_jll\u001b[39m\n",
      "  \u001b[90m◐\u001b[39m \u001b[90mMbedTLS\u001b[39m\n",
      "  \u001b[90m◒\u001b[39m \u001b[90mlibsodium_jll\u001b[39m\n",
      "\u001b[5A\u001b[1G\u001b[0J  \u001b[36m\u001b[1mProgress\u001b[22m\u001b[39m [====================>                    ]  5/10\n",
      "\u001b[32m  ✓ \u001b[39m\u001b[90mJLLWrappers\u001b[39m\n",
      "\u001b[32m  ✓ \u001b[39m\u001b[90mLibSSH2_jll\u001b[39m\n",
      "  \u001b[90m◓\u001b[39m \u001b[90mMbedTLS\u001b[39m\n",
      "  \u001b[90m◐\u001b[39m \u001b[90mlibsodium_jll\u001b[39m\n",
      "\u001b[5A\u001b[1G\u001b[0J  \u001b[36m\u001b[1mProgress\u001b[22m\u001b[39m [====================>                    ]  5/10\n",
      "\u001b[32m  ✓ \u001b[39m\u001b[90mJLLWrappers\u001b[39m\n",
      "\u001b[32m  ✓ \u001b[39m\u001b[90mLibSSH2_jll\u001b[39m\n",
      "  \u001b[90m◑\u001b[39m \u001b[90mMbedTLS\u001b[39m\n",
      "  \u001b[90m◓\u001b[39m \u001b[90mlibsodium_jll\u001b[39m\n",
      "\u001b[5A\u001b[1G\u001b[0J  \u001b[36m\u001b[1mProgress\u001b[22m\u001b[39m [====================>                    ]  5/10\n",
      "\u001b[32m  ✓ \u001b[39m\u001b[90mJLLWrappers\u001b[39m\n",
      "\u001b[32m  ✓ \u001b[39m\u001b[90mLibSSH2_jll\u001b[39m\n",
      "  \u001b[90m◒\u001b[39m \u001b[90mMbedTLS\u001b[39m\n",
      "  \u001b[90m◑\u001b[39m \u001b[90mlibsodium_jll\u001b[39m\n",
      "\u001b[5A\u001b[1G\u001b[0J  \u001b[36m\u001b[1mProgress\u001b[22m\u001b[39m [====================>                    ]  5/10\n",
      "\u001b[32m  ✓ \u001b[39m\u001b[90mJLLWrappers\u001b[39m\n",
      "\u001b[32m  ✓ \u001b[39m\u001b[90mLibSSH2_jll\u001b[39m\n",
      "  \u001b[90m◐\u001b[39m \u001b[90mMbedTLS\u001b[39m\n",
      "  \u001b[90m◒\u001b[39m \u001b[90mlibsodium_jll\u001b[39m\n",
      "\u001b[5A\u001b[1G\u001b[0J  \u001b[36m\u001b[1mProgress\u001b[22m\u001b[39m [========================>                ]  6/10\n",
      "\u001b[32m  ✓ \u001b[39m\u001b[90mJLLWrappers\u001b[39m\n",
      "  \u001b[90m◓\u001b[39m \u001b[90mMbedTLS\u001b[39m\n",
      "\u001b[32m  ✓ \u001b[39m\u001b[90mlibsodium_jll\u001b[39m\n",
      "  \u001b[90m◑\u001b[39m \u001b[90mZeroMQ_jll\u001b[39m\n",
      "\u001b[5A\u001b[1G\u001b[0J  \u001b[36m\u001b[1mProgress\u001b[22m\u001b[39m [========================>                ]  6/10\n",
      "\u001b[32m  ✓ \u001b[39m\u001b[90mJLLWrappers\u001b[39m\n",
      "  \u001b[90m◑\u001b[39m \u001b[90mMbedTLS\u001b[39m\n",
      "\u001b[32m  ✓ \u001b[39m\u001b[90mlibsodium_jll\u001b[39m\n",
      "  \u001b[90m◒\u001b[39m \u001b[90mZeroMQ_jll\u001b[39m\n",
      "\u001b[5A\u001b[1G\u001b[0J  \u001b[36m\u001b[1mProgress\u001b[22m\u001b[39m [============================>            ]  7/10\n",
      "\u001b[32m  ✓ \u001b[39m\u001b[90mJLLWrappers\u001b[39m\n",
      "\u001b[32m  ✓ \u001b[39m\u001b[90mMbedTLS\u001b[39m\n",
      "\u001b[32m  ✓ \u001b[39m\u001b[90mlibsodium_jll\u001b[39m\n",
      "  \u001b[90m◐\u001b[39m \u001b[90mZeroMQ_jll\u001b[39m\n",
      "\u001b[5A\u001b[1G\u001b[0J  \u001b[36m\u001b[1mProgress\u001b[22m\u001b[39m [============================>            ]  7/10\n",
      "\u001b[32m  ✓ \u001b[39m\u001b[90mMbedTLS\u001b[39m\n",
      "\u001b[32m  ✓ \u001b[39m\u001b[90mlibsodium_jll\u001b[39m\n",
      "  \u001b[90m◓\u001b[39m \u001b[90mZeroMQ_jll\u001b[39m\n",
      "\u001b[4A\u001b[1G\u001b[0J  \u001b[36m\u001b[1mProgress\u001b[22m\u001b[39m [============================>            ]  7/10\n",
      "\u001b[32m  ✓ \u001b[39m\u001b[90mMbedTLS\u001b[39m\n",
      "\u001b[32m  ✓ \u001b[39m\u001b[90mlibsodium_jll\u001b[39m\n",
      "  \u001b[90m◑\u001b[39m \u001b[90mZeroMQ_jll\u001b[39m\n",
      "\u001b[4A\u001b[1G\u001b[0J  \u001b[36m\u001b[1mProgress\u001b[22m\u001b[39m [================================>        ]  8/10\n",
      "\u001b[32m  ✓ \u001b[39m\u001b[90mMbedTLS\u001b[39m\n",
      "\u001b[32m  ✓ \u001b[39m\u001b[90mlibsodium_jll\u001b[39m\n",
      "\u001b[32m  ✓ \u001b[39m\u001b[90mZeroMQ_jll\u001b[39m\n",
      "  \u001b[90m◒\u001b[39m \u001b[90mZMQ\u001b[39m\n",
      "\u001b[5A\u001b[1G\u001b[0J  \u001b[36m\u001b[1mProgress\u001b[22m\u001b[39m [================================>        ]  8/10\n",
      "\u001b[32m  ✓ \u001b[39m\u001b[90mMbedTLS\u001b[39m\n",
      "\u001b[32m  ✓ \u001b[39m\u001b[90mlibsodium_jll\u001b[39m\n",
      "\u001b[32m  ✓ \u001b[39m\u001b[90mZeroMQ_jll\u001b[39m\n",
      "  \u001b[90m◐\u001b[39m \u001b[90mZMQ\u001b[39m\n",
      "\u001b[5A\u001b[1G\u001b[0J  \u001b[36m\u001b[1mProgress\u001b[22m\u001b[39m [================================>        ]  8/10\n",
      "\u001b[32m  ✓ \u001b[39m\u001b[90mMbedTLS\u001b[39m\n",
      "\u001b[32m  ✓ \u001b[39m\u001b[90mlibsodium_jll\u001b[39m\n",
      "\u001b[32m  ✓ \u001b[39m\u001b[90mZeroMQ_jll\u001b[39m\n",
      "  \u001b[90m◓\u001b[39m \u001b[90mZMQ\u001b[39m\n",
      "\u001b[5A\u001b[1G\u001b[0J  \u001b[36m\u001b[1mProgress\u001b[22m\u001b[39m [================================>        ]  8/10\n",
      "\u001b[32m  ✓ \u001b[39m\u001b[90mMbedTLS\u001b[39m\n",
      "\u001b[32m  ✓ \u001b[39m\u001b[90mlibsodium_jll\u001b[39m\n",
      "\u001b[32m  ✓ \u001b[39m\u001b[90mZeroMQ_jll\u001b[39m\n",
      "  \u001b[90m◑\u001b[39m \u001b[90mZMQ\u001b[39m\n",
      "\u001b[5A\u001b[1G\u001b[0J  \u001b[36m\u001b[1mProgress\u001b[22m\u001b[39m [================================>        ]  8/10\n",
      "\u001b[32m  ✓ \u001b[39m\u001b[90mMbedTLS\u001b[39m\n",
      "\u001b[32m  ✓ \u001b[39m\u001b[90mlibsodium_jll\u001b[39m\n",
      "\u001b[32m  ✓ \u001b[39m\u001b[90mZeroMQ_jll\u001b[39m\n",
      "  \u001b[90m◒\u001b[39m \u001b[90mZMQ\u001b[39m\n",
      "\u001b[5A\u001b[1G\u001b[0J  \u001b[36m\u001b[1mProgress\u001b[22m\u001b[39m [================================>        ]  8/10\n",
      "\u001b[32m  ✓ \u001b[39m\u001b[90mMbedTLS\u001b[39m\n",
      "\u001b[32m  ✓ \u001b[39m\u001b[90mZeroMQ_jll\u001b[39m\n",
      "  \u001b[90m◐\u001b[39m \u001b[90mZMQ\u001b[39m\n",
      "\u001b[4A\u001b[1G\u001b[0J  \u001b[36m\u001b[1mProgress\u001b[22m\u001b[39m [================================>        ]  8/10\n",
      "\u001b[32m  ✓ \u001b[39m\u001b[90mMbedTLS\u001b[39m\n",
      "\u001b[32m  ✓ \u001b[39m\u001b[90mZeroMQ_jll\u001b[39m\n",
      "  \u001b[90m◓\u001b[39m \u001b[90mZMQ\u001b[39m\n",
      "\u001b[4A\u001b[1G\u001b[0J  \u001b[36m\u001b[1mProgress\u001b[22m\u001b[39m [================================>        ]  8/10\n",
      "\u001b[32m  ✓ \u001b[39m\u001b[90mZeroMQ_jll\u001b[39m\n",
      "  \u001b[90m◑\u001b[39m \u001b[90mZMQ\u001b[39m\n",
      "\u001b[3A\u001b[1G\u001b[0J  \u001b[36m\u001b[1mProgress\u001b[22m\u001b[39m [================================>        ]  8/10\n",
      "\u001b[32m  ✓ \u001b[39m\u001b[90mZeroMQ_jll\u001b[39m\n",
      "  \u001b[90m◒\u001b[39m \u001b[90mZMQ\u001b[39m\n",
      "\u001b[3A\u001b[1G\u001b[0J  \u001b[36m\u001b[1mProgress\u001b[22m\u001b[39m [================================>        ]  8/10\n",
      "\u001b[32m  ✓ \u001b[39m\u001b[90mZeroMQ_jll\u001b[39m\n",
      "  \u001b[90m◐\u001b[39m \u001b[90mZMQ\u001b[39m\n",
      "\u001b[3A\u001b[1G\u001b[0J  \u001b[36m\u001b[1mProgress\u001b[22m\u001b[39m [================================>        ]  8/10\n",
      "  \u001b[90m◓\u001b[39m \u001b[90mZMQ\u001b[39m\n",
      "\u001b[2A\u001b[1G\u001b[0J  \u001b[36m\u001b[1mProgress\u001b[22m\u001b[39m [================================>        ]  8/10\n",
      "  \u001b[90m◑\u001b[39m \u001b[90mZMQ\u001b[39m\n",
      "\u001b[2A\u001b[1G\u001b[0J  \u001b[36m\u001b[1mProgress\u001b[22m\u001b[39m [====================================>    ]  9/10\n",
      "\u001b[32m  ✓ \u001b[39m\u001b[90mZMQ\u001b[39m\n",
      "  ◑ IJulia\n",
      "\u001b[3A\u001b[1G\u001b[0J  \u001b[36m\u001b[1mProgress\u001b[22m\u001b[39m [====================================>    ]  9/10\n",
      "\u001b[32m  ✓ \u001b[39m\u001b[90mZMQ\u001b[39m\n",
      "  ◒ IJulia\n",
      "\u001b[3A\u001b[1G\u001b[0J  \u001b[36m\u001b[1mProgress\u001b[22m\u001b[39m [====================================>    ]  9/10\n",
      "\u001b[32m  ✓ \u001b[39m\u001b[90mZMQ\u001b[39m\n",
      "  ◐ IJulia\n",
      "\u001b[3A\u001b[1G\u001b[0J  \u001b[36m\u001b[1mProgress\u001b[22m\u001b[39m [====================================>    ]  9/10\n",
      "\u001b[32m  ✓ \u001b[39m\u001b[90mZMQ\u001b[39m\n",
      "  ◓ IJulia\n",
      "\u001b[3A\u001b[1G\u001b[0J  \u001b[36m\u001b[1mProgress\u001b[22m\u001b[39m [====================================>    ]  9/10\n",
      "\u001b[32m  ✓ \u001b[39m\u001b[90mZMQ\u001b[39m\n",
      "  ◑ IJulia\n",
      "\u001b[3A\u001b[1G\u001b[0J  \u001b[36m\u001b[1mProgress\u001b[22m\u001b[39m [====================================>    ]  9/10\n",
      "\u001b[32m  ✓ \u001b[39m\u001b[90mZMQ\u001b[39m\n",
      "  ◒ IJulia\n",
      "\u001b[3A\u001b[1G\u001b[0J  \u001b[36m\u001b[1mProgress\u001b[22m\u001b[39m [====================================>    ]  9/10\n",
      "\u001b[32m  ✓ \u001b[39m\u001b[90mZMQ\u001b[39m\n",
      "  ◐ IJulia\n",
      "\u001b[3A\u001b[1G\u001b[0J  \u001b[36m\u001b[1mProgress\u001b[22m\u001b[39m [====================================>    ]  9/10\n",
      "\u001b[32m  ✓ \u001b[39m\u001b[90mZMQ\u001b[39m\n",
      "  ◓ IJulia\n",
      "\u001b[3A\u001b[1G\u001b[0J  \u001b[36m\u001b[1mProgress\u001b[22m\u001b[39m [====================================>    ]  9/10\n",
      "\u001b[32m  ✓ \u001b[39m\u001b[90mZMQ\u001b[39m\n",
      "  ◑ IJulia\n",
      "\u001b[3A\u001b[1G\u001b[0J  \u001b[36m\u001b[1mProgress\u001b[22m\u001b[39m [====================================>    ]  9/10\n",
      "\u001b[32m  ✓ \u001b[39m\u001b[90mZMQ\u001b[39m\n",
      "  ◒ IJulia\n",
      "\u001b[3A\u001b[1G\u001b[0J  \u001b[36m\u001b[1mProgress\u001b[22m\u001b[39m [====================================>    ]  9/10\n",
      "  ◐ IJulia\n",
      "\u001b[2A\u001b[1G\u001b[0J  \u001b[36m\u001b[1mProgress\u001b[22m\u001b[39m [====================================>    ]  9/10\n",
      "  ◓ IJulia\n",
      "\u001b[2A\u001b[1G\u001b[0J  \u001b[36m\u001b[1mProgress\u001b[22m\u001b[39m [====================================>    ]  9/10\n",
      "  ◑ IJulia\n",
      "\u001b[2A\u001b[1G\u001b[0J  \u001b[36m\u001b[1mProgress\u001b[22m\u001b[39m [====================================>    ]  9/10\n",
      "  ◒ IJulia\n",
      "\u001b[2A\u001b[1G\u001b[0J  \u001b[36m\u001b[1mProgress\u001b[22m\u001b[39m [====================================>    ]  9/10\n",
      "  ◐ IJulia\n",
      "\u001b[2A\u001b[1G\u001b[0J  \u001b[36m\u001b[1mProgress\u001b[22m\u001b[39m [====================================>    ]  9/10\n",
      "  ◓ IJulia\n",
      "\u001b[2A\u001b[1G\u001b[0J  \u001b[36m\u001b[1mProgress\u001b[22m\u001b[39m [====================================>    ]  9/10\n",
      "  ◑ IJulia\n",
      "\u001b[2A\u001b[1G\u001b[0J  \u001b[36m\u001b[1mProgress\u001b[22m\u001b[39m [====================================>    ]  9/10\n",
      "  ◒ IJulia\n",
      "\u001b[2A\u001b[1G\u001b[0J  \u001b[36m\u001b[1mProgress\u001b[22m\u001b[39m [====================================>    ]  9/10\n",
      "  ◐ IJulia\n",
      "\u001b[2A\u001b[1G\u001b[0J  \u001b[36m\u001b[1mProgress\u001b[22m\u001b[39m [====================================>    ]  9/10\n",
      "  ◓ IJulia\n",
      "\u001b[2A\u001b[1G\u001b[0J  \u001b[36m\u001b[1mProgress\u001b[22m\u001b[39m [====================================>    ]  9/10\n",
      "  ◑ IJulia\n",
      "\u001b[2A\u001b[1G\u001b[0J  \u001b[36m\u001b[1mProgress\u001b[22m\u001b[39m [========================================>]  10/10\n",
      "\u001b[1A\u001b[1G\u001b[0J\u001b[?25h  10 dependencies successfully precompiled in 7 seconds. 6 already precompiled.\n",
      "\u001b[?25hDone\n"
     ]
    },
    {
     "data": {
      "text/plain": []
     },
     "execution_count": 2,
     "metadata": {},
     "output_type": "execute_result"
    }
   ],
   "source": [
    "# Installation cell\n",
    "#%%capture\n",
    "%%shell\n",
    "if ! command -v julia 3>&1 > /dev/null\n",
    "then\n",
    "    wget -q 'https://julialang-s3.julialang.org/bin/linux/x64/1.8/julia-1.8.4-linux-x86_64.tar.gz' \\\n",
    "        -O /tmp/julia.tar.gz\n",
    "    tar -x -f /tmp/julia.tar.gz -C /usr/local --strip-components 1\n",
    "    rm /tmp/julia.tar.gz\n",
    "fi\n",
    "julia -e 'using Pkg; pkg\"add IJulia; precompile;\"'\n",
    "\n",
    "echo 'Done'"
   ]
  },
  {
   "cell_type": "markdown",
   "metadata": {
    "id": "GFzxr63X39_t"
   },
   "source": [
    "## Restart session to load Julia kernel"
   ]
  },
  {
   "cell_type": "markdown",
   "metadata": {
    "id": "XdMpcQduyaQc"
   },
   "source": [
    "Go to Colab's menu bar and select **Edit** and select **Notebook settings** from the drop down. Select *Julia 1.7* in Runtime type. \\\\\n",
    "Note: if you change hardware acceleration will restart whole session (need to reinstall Julia).\n",
    "\n",
    "\n",
    "\n",
    "\n",
    "\n"
   ]
  },
  {
   "cell_type": "markdown",
   "metadata": {
    "id": "gcbYJn34E9Be"
   },
   "source": [
    "##### Checking Julia version"
   ]
  },
  {
   "cell_type": "code",
   "execution_count": null,
   "metadata": {
    "colab": {
     "base_uri": "https://localhost:8080/"
    },
    "executionInfo": {
     "elapsed": 1028,
     "status": "ok",
     "timestamp": 1701873140704,
     "user": {
      "displayName": "J. Carlos R. Hernandez-Beltran",
      "userId": "15303466688252236754"
     },
     "user_tz": -60
    },
    "id": "iIxu4TjlJnBG",
    "outputId": "4d67c360-2944-4cf7-bc5f-1b424d90a56a"
   },
   "outputs": [
    {
     "data": {
      "text/plain": [
       "v\"1.8.4\""
      ]
     },
     "execution_count": 1,
     "metadata": {},
     "output_type": "execute_result"
    }
   ],
   "source": [
    "VERSION"
   ]
  },
  {
   "cell_type": "code",
   "execution_count": 4,
   "metadata": {
    "colab": {
     "base_uri": "https://localhost:8080/"
    },
    "executionInfo": {
     "elapsed": 25979,
     "status": "ok",
     "timestamp": 1701877902211,
     "user": {
      "displayName": "J. Carlos R. Hernandez-Beltran",
      "userId": "15303466688252236754"
     },
     "user_tz": -60
    },
    "id": "Jtl0ualgdMyn",
    "outputId": "6e18dde7-2f2b-4cc2-a902-779b6ba0dc0d",
    "tags": []
   },
   "outputs": [
    {
     "name": "stderr",
     "output_type": "stream",
     "text": [
      "\u001b[32m\u001b[1m    Updating\u001b[22m\u001b[39m registry at `~/.julia/registries/General.toml`\n",
      "\u001b[32m\u001b[1m   Resolving\u001b[22m\u001b[39m package versions...\n",
      "\u001b[32m\u001b[1m   Installed\u001b[22m\u001b[39m libpng_jll ─ v1.6.38+1\n",
      "\u001b[32m\u001b[1m    Updating\u001b[22m\u001b[39m `~/.julia/environments/v1.8/Project.toml`\n",
      " \u001b[90m [5ab0869b] \u001b[39m\u001b[92m+ KernelDensity v0.6.7\u001b[39m\n",
      "\u001b[32m\u001b[1m    Updating\u001b[22m\u001b[39m `~/.julia/environments/v1.8/Manifest.toml`\n",
      "\u001b[32m⌃\u001b[39m\u001b[90m [b53b4c65] \u001b[39m\u001b[93m↑ libpng_jll v1.6.38+0 ⇒ v1.6.38+1\u001b[39m\n",
      "\u001b[36m\u001b[1m        Info\u001b[22m\u001b[39m Packages marked with \u001b[32m⌃\u001b[39m have new versions available and may be upgradable.\n",
      "\u001b[32m\u001b[1mPrecompiling\u001b[22m\u001b[39m project...\n",
      "\u001b[33m  ✓ \u001b[39m\u001b[90mlibpng_jll\u001b[39m\n",
      "\u001b[33m  ✓ \u001b[39m\u001b[90mCairo_jll\u001b[39m\n",
      "\u001b[33m  ✓ \u001b[39m\u001b[90mHarfBuzz_jll\u001b[39m\n",
      "\u001b[33m  ✓ \u001b[39m\u001b[90mlibass_jll\u001b[39m\n",
      "\u001b[33m  ✓ \u001b[39m\u001b[90mFFMPEG_jll\u001b[39m\n",
      "\u001b[33m  ✓ \u001b[39m\u001b[90mFFMPEG\u001b[39m\n",
      "\u001b[33m  ✓ \u001b[39m\u001b[90mGR_jll\u001b[39m\n",
      "\u001b[33m  ✓ \u001b[39m\u001b[90mGR\u001b[39m\n",
      "\u001b[33m  ✓ \u001b[39mPlots\n",
      "\u001b[32m  ✓ \u001b[39mStatsPlots\n",
      "  10 dependencies successfully precompiled in 35 seconds. 193 already precompiled.\n",
      "  \u001b[33m9\u001b[39m dependencies precompiled but different versions are currently loaded. Restart julia to access the new versions\n"
     ]
    }
   ],
   "source": [
    "#using Pkg;ENV[\"JUPYTER\"]=\"/usr/local/bin/python\"; pkg\"add Distributions,Plots,StatsBase,PyPlot;precompile\"\n",
    "using Pkg; pkg\"add Distributions,StatsBase,KernelDensity,PyPlot,Plots,PyCall,LaTeXStrings;precompile\"\n"
   ]
  },
  {
   "cell_type": "code",
   "execution_count": 5,
   "metadata": {
    "colab": {
     "base_uri": "https://localhost:8080/"
    },
    "executionInfo": {
     "elapsed": 263,
     "status": "ok",
     "timestamp": 1701879715129,
     "user": {
      "displayName": "J. Carlos R. Hernandez-Beltran",
      "userId": "15303466688252236754"
     },
     "user_tz": -60
    },
    "id": "Mng4Ro7QlaUV",
    "outputId": "ce8f7e11-308a-4d3f-d01c-75f9eea83b1e",
    "tags": []
   },
   "outputs": [
    {
     "data": {
      "text/plain": [
       "Plots.PyPlotBackend()"
      ]
     },
     "execution_count": 5,
     "metadata": {},
     "output_type": "execute_result"
    }
   ],
   "source": [
    "using Distributions,StatsBase,Printf,Random\n",
    "using Plots\n",
    "using Serialization\n",
    "using KernelDensity\n",
    "using PyCall\n",
    "using LaTeXStrings\n",
    "#using StatsPlots\n",
    "using Plots.PlotMeasures\n",
    "Plots.scalefontsizes(1.25)\n",
    "Plots.backend()\n",
    "\n",
    "plt = pyimport(\"matplotlib.pyplot\")\n",
    "mpl=pyimport(\"matplotlib\")\n",
    "np=pyimport(\"numpy\")\n",
    "\n",
    "pyplot()"
   ]
  },
  {
   "cell_type": "code",
   "execution_count": 1,
   "metadata": {
    "colab": {
     "base_uri": "https://localhost:8080/",
     "height": 245
    },
    "executionInfo": {
     "elapsed": 6,
     "status": "error",
     "timestamp": 1702572117116,
     "user": {
      "displayName": "J. Carlos R. Hernandez-Beltran",
      "userId": "15303466688252236754"
     },
     "user_tz": -60
    },
    "id": "wOVmkraNlos0",
    "outputId": "51b6427e-9dc6-403c-ea4b-23704080520a",
    "tags": []
   },
   "outputs": [
    {
     "data": {
      "text/plain": [
       "\"/home/charly/Lab/Projects/pBGT/GIT/figures/\""
      ]
     },
     "execution_count": 1,
     "metadata": {},
     "output_type": "execute_result"
    }
   ],
   "source": [
    "rootDir=pwd()*\"/drive/MyDrive/\"\n",
    "rootDir=pwd()*\"/drive/MyDrive/SYNC_Projects/\"\n",
    "rootDir=\"/home/charly/Lab/Projects/\"  ### only for local run\n",
    "\n",
    "\n",
    "rootDir=rootDir*\"pBGT/GIT/\"\n",
    "\n",
    "source_path=rootDir*\"code/ABM/source/\"\n",
    "pathDataLAL=rootDir*\"data/sim_data/LB-AMP-LB/\"\n",
    "pathDataS=rootDir*\"data/sim_data/survival/\"\n",
    "\n",
    "pathFigures=rootDir*\"figures/\"\n"
   ]
  },
  {
   "cell_type": "code",
   "execution_count": 6,
   "metadata": {
    "id": "y22xYwQ3vDZh",
    "tags": []
   },
   "outputs": [
    {
     "name": "stderr",
     "output_type": "stream",
     "text": [
      "WARNING: replacing module ModelParameters.\n"
     ]
    }
   ],
   "source": [
    "using Distributed\n",
    "include(source_path*\"ModelParameters.jl\")\n",
    "include(source_path*\"Bacterias.jl\")\n",
    "include(source_path*\"CellularFunctions.jl\")\n",
    "include(source_path*\"Simulator.jl\")\n",
    "include(source_path*\"AnalysisFunctions.jl\")\n",
    "include(source_path*\"PlottingFunctions.jl\")\n"
   ]
  },
  {
   "cell_type": "markdown",
   "metadata": {
    "id": "Zq2jpYXB8bRh"
   },
   "source": [
    " ## Load julia modules\n"
   ]
  },
  {
   "cell_type": "code",
   "execution_count": null,
   "metadata": {
    "id": "Ep2iMqJP8PY0"
   },
   "outputs": [],
   "source": [
    "# #%%julia\n",
    "# using Distributed\n",
    "# #addprocs(5)\n",
    "\n",
    "# @everywhere using Distributed,Distributions,StatsBase,Printf,Random\n",
    "\n",
    "# #using Distributed\n",
    "# #using Distributions,StatsBase,Printf,Random\n",
    "\n",
    "# using Plots\n",
    "# using PyCall\n",
    "# using Serialization\n",
    "# using KernelDensity\n",
    "\n",
    "# pd = pyimport(\"pandas\")\n",
    "\n",
    "# Plots.backend()\n",
    "\n",
    "# pyplot();"
   ]
  },
  {
   "cell_type": "markdown",
   "metadata": {
    "id": "30_Zx69o80Kx"
   },
   "source": [
    "## Load ABM model"
   ]
  },
  {
   "cell_type": "code",
   "execution_count": null,
   "metadata": {
    "colab": {
     "base_uri": "https://localhost:8080/"
    },
    "executionInfo": {
     "elapsed": 5806,
     "status": "ok",
     "timestamp": 1687970599661,
     "user": {
      "displayName": "J. Carlos R. Hernandez-Beltran",
      "userId": "15303466688252236754"
     },
     "user_tz": -120
    },
    "id": "R7UmV5YV8aOV",
    "outputId": "03bcda85-6145-47fe-c143-291b02a164b8"
   },
   "outputs": [
    {
     "data": {
      "text/plain": [
       "(\"/content/drive/MyDrive/SYNC_Projects/pBGT/ms/code/ABM/source/\", \"/content/drive/MyDrive/SYNC_Projects/pBGT/ms/pBGT/ms/code/Figure_1/\")"
      ]
     },
     "execution_count": 3,
     "metadata": {},
     "output_type": "execute_result"
    }
   ],
   "source": [
    "# #%%julia\n",
    "\n",
    "# rootDir=pwd()*\"/drive/MyDrive/SYNC_Projects/\"\n",
    "\n",
    "# rootDir=rootDir*\"pBGT/ms/\"\n",
    "\n",
    "# source_path=rootDir*\"code/ABM/source/\"\n",
    "# pathFigures=rootDir*\"figures/\"\n",
    "\n",
    "# #push!(LOAD_PATH,source_path)\n",
    "# source_path,workingDir"
   ]
  },
  {
   "cell_type": "markdown",
   "metadata": {
    "id": "niPhSdpN5Uid"
   },
   "source": [
    "## Simulation paramters"
   ]
  },
  {
   "cell_type": "code",
   "execution_count": 7,
   "metadata": {
    "id": "YBVRb6bf5XBy",
    "tags": []
   },
   "outputs": [],
   "source": [
    "aA=0.\n",
    "\n",
    "starting_variation=false\n",
    "iniCells=100000\n",
    "\n",
    "mus=collect(0:100)\n",
    "cvs=collect(0:0.05:1)\n",
    "ics=collect(0:0.05:3)\n",
    "\n",
    ";"
   ]
  },
  {
   "cell_type": "markdown",
   "metadata": {
    "id": "3xvf3WE75hme"
   },
   "source": []
  },
  {
   "cell_type": "markdown",
   "metadata": {
    "id": "3uXjD3R78XnO"
   },
   "source": [
    " ### Computing distributions for multiple parameters"
   ]
  },
  {
   "cell_type": "code",
   "execution_count": 8,
   "metadata": {
    "colab": {
     "base_uri": "https://localhost:8080/"
    },
    "executionInfo": {
     "elapsed": 28313,
     "status": "ok",
     "timestamp": 1701875406155,
     "user": {
      "displayName": "J. Carlos R. Hernandez-Beltran",
      "userId": "15303466688252236754"
     },
     "user_tz": -60
    },
    "id": "gFQXYcwo5ljw",
    "outputId": "abf95eaa-9107-4fd5-caa3-e6be8241325e",
    "tags": []
   },
   "outputs": [
    {
     "name": "stdout",
     "output_type": "stream",
     "text": [
      "Loaded pBGT Survival variables.\n"
     ]
    }
   ],
   "source": [
    "#%%julia\n",
    "\n",
    "\n",
    "pBGT_survival_probability_file=pathDataS*\"pBGT_survival_probability\"\n",
    "pBGT_survival_plasmids_file=pathDataS*\"pBGT_survival_plasmids\"\n",
    "pBGT_survival_aliveplasmids_file=pathDataS*\"pBGT_survival_aliveplasmids\"\n",
    "pBGT_run_params_file=pathDataS*\"pBGT_run_params\"\n",
    "pBGTmu=19.\n",
    "\n",
    "pMIC=getMIC(pBGTmu)\n",
    "\n",
    "reDo_sim=true\n",
    "reDo_sim=false\n",
    "\n",
    "if reDo_sim\n",
    "    nrepeats=10\n",
    "\n",
    "    pBGT_cv_ic_sprob=[]\n",
    "    pBGT_cv_ic_plasmids_all=[]\n",
    "    pBGT_cv_ic_plasmids_alive=[]\n",
    "\n",
    "    stric=\"\"\n",
    "    for x in ics\n",
    "        global stric\n",
    "        tstr=@sprintf(\"%0.2f \",x)\n",
    "        stric=stric*tstr\n",
    "    end\n",
    "\n",
    "    println(\"mu,    cv\\t$stric   <- ICs\")\n",
    "    for cv in cvs\n",
    "        p_NdistP=Normal(pBGTmu,pBGTmu*cv)\n",
    "\n",
    "    print(\"$mu, $cv\\t\")\n",
    "        ic_sprob=[]\n",
    "        ic_plasmids_all=[]\n",
    "        ic_plasmids_alive=[]\n",
    "\n",
    "        for ic in ics\n",
    "            aAi=pMIC*ic\n",
    "            n_total=iniCells\n",
    "            n_alive=0\n",
    "\n",
    "            plasmids_all=[]\n",
    "            plasmids_alive=[]\n",
    "\n",
    "            for rep in 1:nrepeats\n",
    "                bst=getInitialPopulation(iniCells, mu, 1,starting_variation);\n",
    "                #bst=getInitialPopulationParallel(iniCells, mu, 1,p_NdistP,starting_variation);\n",
    "                for b in bst\n",
    "                    rep==1 ? push!(plasmids_all,b.plasmids[2]) : 0\n",
    "                    b.isDead = antibiotic_dynamics(b,aAi)\n",
    "                    b.isDead==false ? (n_alive+=1; ) : 0\n",
    "                    (b.isDead==false&&rep==1) ? (push!(plasmids_alive,b.plasmids[2]) ) : 0\n",
    "                end\n",
    "            end\n",
    "\n",
    "            sprob=n_alive/(n_total*nrepeats)\n",
    "            str=@sprintf(\"%0.2f \",round(sprob,digits=2) )\n",
    "            print(str)\n",
    "            push!(ic_sprob,sprob)\n",
    "            push!(ic_plasmids_all,plasmids_all)\n",
    "            push!(ic_plasmids_alive,plasmids_alive)\n",
    "        end #end ic\n",
    "        println()\n",
    "        push!(pBGT_cv_ic_sprob,ic_sprob)\n",
    "        push!(pBGT_cv_ic_plasmids_all,ic_plasmids_all)\n",
    "        push!(pBGT_cv_ic_plasmids_alive,ic_plasmids_alive)\n",
    "\n",
    "    end\n",
    "\n",
    "    serialize(pBGT_survival_probability_file, pBGT_cv_ic_sprob);\n",
    "    serialize(pBGT_survival_plasmids_file, pBGT_cv_ic_plasmids_all);\n",
    "    serialize(pBGT_survival_aliveplasmids_file, pBGT_cv_ic_plasmids_alive);\n",
    "    serialize(pBGT_run_params_file,[mus,cvs,ics])\n",
    "    println(\"Simulation finished!\")\n",
    "\n",
    "else\n",
    "    pBGT_cv_ic_sprob=deserialize(pBGT_survival_probability_file)\n",
    "    pBGT_cv_ic_plasmids_all=deserialize(pBGT_survival_plasmids_file)\n",
    "    pBGT_cv_ic_plasmids_alive=deserialize(pBGT_survival_aliveplasmids_file)\n",
    "    this_params=deserialize(pBGT_run_params_file)\n",
    "    mus=this_params[1]\n",
    "    cvs=this_params[2]\n",
    "    ics=this_params[3]\n",
    "    println(\"Loaded pBGT Survival variables.\")\n",
    "end\n",
    "\n",
    ";\n"
   ]
  },
  {
   "cell_type": "markdown",
   "metadata": {
    "id": "y4mySUv98bd0"
   },
   "source": [
    "## Figure 1C\n"
   ]
  },
  {
   "cell_type": "code",
   "execution_count": 41,
   "metadata": {
    "colab": {
     "base_uri": "https://localhost:8080/",
     "height": 434
    },
    "executionInfo": {
     "elapsed": 953,
     "status": "ok",
     "timestamp": 1701876526902,
     "user": {
      "displayName": "J. Carlos R. Hernandez-Beltran",
      "userId": "15303466688252236754"
     },
     "user_tz": -60
    },
    "id": "leaC2qZEviZ1",
    "outputId": "4d136092-63d1-41fa-fa34-973aacd782b4",
    "tags": []
   },
   "outputs": [
    {
     "name": "stdout",
     "output_type": "stream",
     "text": [
      "Saving figure /home/charly/Lab/Projects/pBGT/GIT/figures/Fig-1C.pdf ..\n"
     ]
    },
    {
     "data": {
      "image/png": "[encoded data removed]"
     },
     "metadata": {},
     "output_type": "display_data"
    }
   ],
   "source": [
    "\n",
    "\n",
    "muipBGT=findall(x -> x == 19., mus)[1]\n",
    "cvipBGT=findall(x -> x == 0.15, cvs)[1]\n",
    "pBGTcv=cvs[cvipBGT]\n",
    "\n",
    "cvsl=[.25,.35,.45]\n",
    "#cvsl=[.20,.25,.30]\n",
    "\n",
    "cm = cgrad(:linear_ternary_green_0_46_c42_n256)\n",
    "colors = [cm[i] for i in range(0,stop=1,length=length(cvsl))]\n",
    "doses=ics\n",
    "\n",
    "this_probs0=[]\n",
    "dosesl=collect(0:.01:3)\n",
    "for x in dosesl\n",
    "    val=1\n",
    "    x<=1 ? val=1 : val=0\n",
    "    push!(this_probs0,val)\n",
    "end\n",
    "p=plot(dosesl, 100*this_probs0, alpha=1,label=:none,\n",
    "            color=\"black\", legend=:none, line=:dot,\n",
    "            xlabel = \"Antibiotic concentration (units of MIC)\",ylabel=\"Probability of survival (%)\",\n",
    "            ylims = (0,100), grid=false, linewidth=2)\n",
    "\n",
    "\n",
    "i=0\n",
    "\n",
    "this_probs0=pBGT_cv_ic_sprob[cvipBGT]\n",
    "plot!(doses, 100*this_probs0, alpha=1.,label=Int(pBGTcv*100),\n",
    "            color=\"black\", legend=:none, fillalpha=0.1, fillrange=0, fillcolor=\"green\",\n",
    "            xlabel = \"Antibiotic concentration (units of MIC)\",ylabel=\"Probability of survival (%)\",\n",
    "            xtickfontsize=16,ytickfontsize=16,xguidefontsize=20,yguidefontsize=20,legendfontsize=16,\n",
    "            ylims = (0,100),xlims = (0,2.5), grid=false, linewidth=3)\n",
    "\n",
    "\n",
    "for cv in cvsl\n",
    "    global i\n",
    "    cvi=findall(x -> x == cv, cvs)[1]\n",
    "    this_probs = pBGT_cv_ic_sprob[cvi]\n",
    "    i=1+i\n",
    "\n",
    "    plot!(doses, 100*this_probs, alpha=.5,\n",
    "          #  color=colors[cvi], legend=:none,\n",
    "            color=colors[i], legend=:none,label=Int(cv*100),\n",
    "            xlabel = \"Antibiotic concentration (units of MIC)\",ylabel=\"Probability of survival (%)\",\n",
    "            ylims = (-1,100), grid=false, linewidth=2)\n",
    "end\n",
    "\n",
    "plot!(leg_title=\"CV (%)\",legend_position=:topright,\n",
    "    legend_title_font_pointsize=16,legend_font_pointsize=12, fg_legend = :white)\n",
    "#plot!(size=(2000,1000),dpi=200)\n",
    "\n",
    "figname=pathFigures*\"Fig-1C.pdf\"\n",
    "println(\"Saving figure $figname ..\")\n",
    "savefig(p,figname)\n",
    "display(p)\n",
    "closeall()\n"
   ]
  },
  {
   "cell_type": "markdown",
   "metadata": {
    "id": "4yzipQIlpb4i"
   },
   "source": [
    "## Figure 1B"
   ]
  },
  {
   "cell_type": "code",
   "execution_count": 30,
   "metadata": {
    "colab": {
     "base_uri": "https://localhost:8080/",
     "height": 452
    },
    "executionInfo": {
     "elapsed": 1418,
     "status": "ok",
     "timestamp": 1701877204465,
     "user": {
      "displayName": "J. Carlos R. Hernandez-Beltran",
      "userId": "15303466688252236754"
     },
     "user_tz": -60
    },
    "id": "0mUqujIvImDy",
    "outputId": "a8067bff-cdb7-4e65-bb6d-6e31c45eb4be",
    "tags": []
   },
   "outputs": [
    {
     "name": "stdout",
     "output_type": "stream",
     "text": [
      "cv=0.2, cv=0.25, cv=0.35, \n",
      "Saving figure /home/charly/Lab/Projects/pBGT/GIT/figures/Fig-1B.pdf ..\n"
     ]
    },
    {
     "data": {
      "image/png": "[encoded data removed]"
     },
     "metadata": {},
     "output_type": "display_data"
    }
   ],
   "source": [
    "#%%julia\n",
    "cvsl=[.2,.25,.35]\n",
    "bins=collect(-1:40)\n",
    "cm = cgrad(:linear_ternary_green_0_46_c42_n256)\n",
    "colors = [cm[i] for i in range(0,stop=1,length=length(cvsl))]\n",
    "\n",
    "ps=plot(size=(600,400))\n",
    "\n",
    "ps=plot!([pBGTmu, pBGTmu],[0., 0.22], alpha=1,color=\"black\", legend=:none, line=:dot, grid=false, linewidth=2)\n",
    "i=0\n",
    "for cv in cvsl\n",
    "    global i\n",
    "    i+=1\n",
    "    cvi=findall(x -> x == cv, cvs)[1]\n",
    "    this_cv=cvs[cvi]\n",
    "\n",
    "    print(\"cv=$(this_cv), \")#\n",
    "    this_plasmids=pBGT_cv_ic_plasmids_all[cvi][1]\n",
    "\n",
    "    tp=[x for x in this_plasmids]\n",
    "    #nfit=fit(Normal, (tp))\n",
    "    #dist_0=Normal(nfit.μ,nfit.σ)\n",
    "    k=kde(tp)\n",
    "    ik=InterpKDE(k)\n",
    "    dist_0=pdf(ik,bins)\n",
    "    plot!(bins,dist_0,  fillrange=0, fillalpha=0., alpha=.5,legend=:none,\n",
    "            color=colors[i], label=\"$(this_cv)\", grid=false, xlims = (0., 40),ylabel=\"Frequency\", xlabel=\"Plasmid copy number\", linewidth=2)\n",
    "end\n",
    "println()\n",
    "\n",
    "\n",
    "this_plasmids=pBGT_cv_ic_plasmids_all[cvipBGT][1]\n",
    "tp=[x for x in this_plasmids]\n",
    "#nfit=fit(Normal, (tp))\n",
    "#dist_0=Normal(nfit.μ,nfit.σ)\n",
    "k=kde(tp)\n",
    "ik=InterpKDE(k)\n",
    "dist_0=pdf(ik,bins)\n",
    "plot!(bins,dist_0, fillrange=0, fillalpha=0.1, alpha=1,  legend=:none, fillcolor=\"green\",\n",
    "            xtickfontsize=16,ytickfontsize=16,xguidefontsize=20,yguidefontsize=20,legendfontsize=16,\n",
    "            color=\"black\", label=\"$(pBGTcv)\", grid=false, xlims = (-1., 40),ylabel=\"Frequency\", xlabel=\"PCN\", linewidth=3,\n",
    "    ylims=(0,0.27)\n",
    "    )\n",
    "\n",
    "annotate!(19, 0.26,text(\"Mean PCN\", :black, :center, 16))\n",
    "plot!([19,19],[0.25,0.23],arrow=true,color=:black,linewidth=2,label=\"\")\n",
    "\n",
    "#px=plot(p, ps, layout = grid(1,2,widths = [0.5,0.50], link=:both), size = (1200, 400))\n",
    "figname=pathFigures*\"Fig-1B.pdf\"\n",
    "println(\"Saving figure $figname ..\")\n",
    "savefig(ps,figname)\n",
    "display(ps)\n",
    "closeall()"
   ]
  },
  {
   "cell_type": "markdown",
   "metadata": {
    "id": "j6iEiGprANLh"
   },
   "source": [
    "## Figure 1D"
   ]
  },
  {
   "cell_type": "code",
   "execution_count": 31,
   "metadata": {
    "colab": {
     "base_uri": "https://localhost:8080/",
     "height": 245
    },
    "executionInfo": {
     "elapsed": 237,
     "status": "error",
     "timestamp": 1701877858259,
     "user": {
      "displayName": "J. Carlos R. Hernandez-Beltran",
      "userId": "15303466688252236754"
     },
     "user_tz": -60
    },
    "id": "-NjBA6RD0zgX",
    "outputId": "6b1d9663-c06b-4984-a0a7-6f1c7f7a30a5",
    "tags": []
   },
   "outputs": [],
   "source": [
    "using LaTeXStrings\n"
   ]
  },
  {
   "cell_type": "code",
   "execution_count": 32,
   "metadata": {
    "colab": {
     "base_uri": "https://localhost:8080/",
     "height": 715
    },
    "executionInfo": {
     "elapsed": 1370,
     "status": "ok",
     "timestamp": 1701879223583,
     "user": {
      "displayName": "J. Carlos R. Hernandez-Beltran",
      "userId": "15303466688252236754"
     },
     "user_tz": -60
    },
    "id": "a5kPVp72_2_b",
    "outputId": "fdc86a0b-f66d-488c-972f-7825e04088d3",
    "tags": []
   },
   "outputs": [
    {
     "name": "stdout",
     "output_type": "stream",
     "text": [
      "21\n",
      "ic=1.0* \n",
      "23\n",
      "ic=1.1* \n",
      "25\n",
      "ic=1.2* \n",
      "27\n",
      "ic=1.3* \n",
      "29\n",
      "ic=1.4* \n",
      "31\n",
      "ic=1.5* \n",
      "\n",
      "Saving figure /home/charly/Lab/Projects/pBGT/GIT/figures/Fig-1D.pdf ..\n"
     ]
    },
    {
     "name": "stderr",
     "output_type": "stream",
     "text": [
      "sys:1: UserWarning: You passed a edgecolor/edgecolors ((0.0, 0.0, 0.0, 1.0)) for an unfilled marker ('_').  Matplotlib is ignoring the edgecolor in favor of the facecolor.  This behavior may change in the future.\n",
      "sys:1: UserWarning: No data for colormapping provided via 'c'. Parameters 'vmin', 'vmax' will be ignored\n"
     ]
    },
    {
     "data": {
      "image/png": "[encoded data removed]"
     },
     "metadata": {},
     "output_type": "display_data"
    },
    {
     "name": "stderr",
     "output_type": "stream",
     "text": [
      "sys:1: UserWarning: You passed a edgecolor/edgecolors ((0.0, 0.0, 0.0, 1.0)) for an unfilled marker ('_').  Matplotlib is ignoring the edgecolor in favor of the facecolor.  This behavior may change in the future.\n",
      "sys:1: UserWarning: No data for colormapping provided via 'c'. Parameters 'vmin', 'vmax' will be ignored\n"
     ]
    }
   ],
   "source": [
    "\n",
    "bins=collect(0:40)\n",
    "cm = cgrad(:reds)\n",
    "\n",
    "#plot_icis=findall(x -> x%0.5==0 , ics)\n",
    "plot_icis=[21, 23, 25, 27, 29, 31]\n",
    "color_icis=[1,2,3,4,5,6]\n",
    "\n",
    "colors = [cm[i] for i in range(0,stop=1,length=length(plot_icis))]\n",
    "ps=plot(size=(600,400))\n",
    "ps=plot!([pBGTmu, pBGTmu],[0., 0.25], alpha=1,color=\"black\", legend=:none, line=:dot, grid=false, linewidth=2)\n",
    "\n",
    "for i in color_icis\n",
    "    ici=plot_icis[i]\n",
    "    this_ic=ics[ici]\n",
    "    println(ici)\n",
    "\n",
    "\n",
    "    print(\"ic=$(this_ic)\")#\n",
    "    this_plasmids=pBGT_cv_ic_plasmids_alive[cvipBGT][ici]\n",
    "    this_color=colors[i]\n",
    "\n",
    "    tp=[x for x in this_plasmids]\n",
    "    meanPCN=mean(this_plasmids)\n",
    "\n",
    "    isempty(tp) ? (print(\" \");continue) : 0\n",
    "    np=length(tp)\n",
    "    print(\"* \\n\")\n",
    "    k=kde(tp)\n",
    "    ik=InterpKDE(k)\n",
    "    dist_0=pdf(ik,bins)\n",
    "    plot!(bins,dist_0*np, fillrange=0, fillalpha=0., alpha=.9,legend=:none, color=this_color, label=\"$(this_ic)\", grid=false, ylabel=\"Frequency\", xlabel=\"Plasmid copy number\", linewidth=2)\n",
    "\n",
    "end\n",
    "println()\n",
    "\n",
    "\n",
    "this_plasmids=pBGT_cv_ic_plasmids_all[cvipBGT][1]\n",
    "tp=[x for x in this_plasmids]\n",
    "#nfit=fit(Normal, (tp))\n",
    "#dist_0=Normal(nfit.μ,nfit.σ)\n",
    "np=length(tp)\n",
    "k=kde(tp)\n",
    "ik=InterpKDE(k)\n",
    "dist_0=pdf(ik,bins)\n",
    "plot!(bins,dist_0*np,  fillrange=0, fillalpha=0.1, alpha=1, fillcolor=\"red\", legend=:none,\n",
    "            xtickfontsize=16,ytickfontsize=16,xguidefontsize=20,yguidefontsize=20,legendfontsize=16,\n",
    "            color=\"black\", label=\"$(pBGTcv)\", grid=false, ylims=(0, 2.55e4), xlims = (0., 40),ylabel=\"Count\", xlabel=\"PCN\", linewidth=3,\n",
    "    yaxis=(formatter=y->string(round( y / 10^4,digits=2))),\n",
    "    #formatter = :scientific\n",
    "    top_margin = 8Plots.mm\n",
    ")\n",
    "annotate!([(1, (2.5e4)*1.075, Plots.text(L\"\\times10^{4}\", 16, :black, :center))])\n",
    "\n",
    "plot!([1,17], [2.3e4, 2.3e4], yerr = [1e3, 1e3],  label = \"\",line=(2,:solid,:black))\n",
    "plot!([21,39], [2.3e4, 2.3e4], yerr = [1e3, 1e3],  label = \"\",line=(2,:solid,:black))\n",
    "annotate!([(9, (2.1e4), Plots.text(\"Susceptible\", 16, :black, :center))])\n",
    "annotate!([(30, (2.1e4), Plots.text(\"Resistant\", 16, :black, :center))])\n",
    "\n",
    "#plot!(size=(2000,1000),dpi=200)\n",
    "\n",
    "figname=pathFigures*\"Fig-1D.pdf\"\n",
    "println(\"Saving figure $figname ..\")\n",
    "savefig(ps,figname)\n",
    "display(ps)\n",
    "closeall()\n"
   ]
  },
  {
   "cell_type": "code",
   "execution_count": null,
   "metadata": {
    "colab": {
     "base_uri": "https://localhost:8080/",
     "height": 990
    },
    "executionInfo": {
     "elapsed": 3372,
     "status": "ok",
     "timestamp": 1701879277492,
     "user": {
      "displayName": "J. Carlos R. Hernandez-Beltran",
      "userId": "15303466688252236754"
     },
     "user_tz": -60
    },
    "id": "o5aT1VGotYuE",
    "outputId": "4fcca18a-1ec4-4398-d0b2-3aefd7160c1f"
   },
   "outputs": [
    {
     "name": "stdout",
     "output_type": "stream",
     "text": [
      "\n",
      "ic=0.0\tmeanPCN=18.99346\tstdPCN=2.862470814836662\n",
      "ic=0.05\tmeanPCN=19.02122\tstdPCN=2.865057032088185\n",
      "ic=0.1\tmeanPCN=18.99988\tstdPCN=2.862813640916825\n",
      "ic=0.15\tmeanPCN=18.98783\tstdPCN=2.8647415168806476\n",
      "ic=0.2\tmeanPCN=18.98259\tstdPCN=2.8615570546448628\n",
      "ic=0.25\tmeanPCN=18.98705\tstdPCN=2.853875215130728\n",
      "ic=0.3\tmeanPCN=19.00009\tstdPCN=2.862749018901136\n",
      "ic=0.35\tmeanPCN=18.992569925699257\tstdPCN=2.86252313096706\n",
      "ic=0.4\tmeanPCN=19.01885094254713\tstdPCN=2.8692801581320944\n",
      "ic=0.45\tmeanPCN=19.003270948575086\tstdPCN=2.8570383449351033\n",
      "ic=0.5\tmeanPCN=19.018845264664378\tstdPCN=2.8572626029687873\n",
      "ic=0.55\tmeanPCN=19.030751171353753\tstdPCN=2.8282191560166834\n",
      "ic=0.6\tmeanPCN=19.052462785913107\tstdPCN=2.8080599767303602\n",
      "ic=0.65\tmeanPCN=19.131998898734565\tstdPCN=2.7457195330420374\n",
      "ic=0.7\tmeanPCN=19.21664341198276\tstdPCN=2.671606941281012\n",
      "ic=0.75\tmeanPCN=19.390132925996944\tstdPCN=2.5803083481279803\n",
      "ic=0.8\tmeanPCN=19.58306091440674\tstdPCN=2.4814236629426465\n",
      "ic=0.85\tmeanPCN=19.8697144443463\tstdPCN=2.370781773789278\n",
      "ic=0.9\tmeanPCN=20.201862558026942\tstdPCN=2.278577924220474\n",
      "ic=0.95\tmeanPCN=20.56188760564329\tstdPCN=2.184450391363128\n",
      "ic=1.0\tmeanPCN=20.94665094534773\tstdPCN=2.107314192868921\n",
      "ic=1.05\tmeanPCN=21.4064558629776\tstdPCN=2.0338347173187312\n",
      "ic=1.1\tmeanPCN=21.82938831220143\tstdPCN=1.978980733700822\n",
      "ic=1.15\tmeanPCN=22.250087199162888\tstdPCN=1.9200407094283514\n",
      "ic=1.2\tmeanPCN=22.76254897612183\tstdPCN=1.8811992949894574\n",
      "ic=1.25\tmeanPCN=23.247179487179487\tstdPCN=1.8410407413211782\n",
      "ic=1.3\tmeanPCN=23.644234267006183\tstdPCN=1.813785177029689\n",
      "ic=1.35\tmeanPCN=24.124233128834355\tstdPCN=1.7735125911481648\n",
      "ic=1.4\tmeanPCN=24.65647187329328\tstdPCN=1.7315650093442938\n",
      "ic=1.45\tmeanPCN=25.127766599597585\tstdPCN=1.7493413065778247\n",
      "ic=1.5\tmeanPCN=25.40764331210191\tstdPCN=1.6096335542246945"
     ]
    },
    {
     "name": "stderr",
     "output_type": "stream",
     "text": [
      "\u001b[33m\u001b[1m┌ \u001b[22m\u001b[39m\u001b[33m\u001b[1mWarning: \u001b[22m\u001b[39mSkipped line arg -.\n",
      "\u001b[33m\u001b[1m└ \u001b[22m\u001b[39m\u001b[90m@ Plots ~/.julia/packages/Plots/sxUvK/src/args.jl:1105\u001b[39m\n"
     ]
    },
    {
     "data": {
      "image/png": "[encoded data removed]"
     },
     "execution_count": 93,
     "metadata": {},
     "output_type": "execute_result"
    }
   ],
   "source": [
    "\n",
    "bins=collect(0:40)\n",
    "cm = cgrad(:reds)\n",
    "plot_icis=1:31\n",
    "meanPCNs=[]\n",
    "stdPCNs=[]\n",
    "As=[]\n",
    "for ici in plot_icis\n",
    "    this_ic=ics[ici]\n",
    "\n",
    "    print(\"\\nic=$(this_ic)\")#\n",
    "    this_plasmids=pBGT_cv_ic_plasmids_alive[cvipBGT][ici]\n",
    "\n",
    "    tp=[x for x in this_plasmids]\n",
    "    this_meanPCN=mean(this_plasmids)\n",
    "    this_stdPCN=std(this_plasmids)\n",
    "    print(\"\\tmeanPCN=$(this_meanPCN)\")\n",
    "    print(\"\\tstdPCN=$(this_stdPCN)\")\n",
    "\n",
    "    append!(meanPCNs, this_meanPCN)\n",
    "    append!(stdPCNs, this_stdPCN)\n",
    "    append!(As, this_ic)\n",
    "\n",
    "end\n",
    "\n",
    "p=plot(As, meanPCNs, alpha=1,\n",
    "            xlabel = \"Antibiotic concentration (units of MIC)\", ylabel=\"Mean PCN\",\n",
    "            color=\"black\", legend=:none, line=-,\n",
    "            xtickfontsize=16,ytickfontsize=16,xguidefontsize=20,yguidefontsize=20,legendfontsize=16,\n",
    "            ylims = (15,30), xlims=(0, ics[last(plot_icis)]), grid=false, linewidth=2)\n",
    "\n",
    "plot!(As, meanPCNs.-stdPCNs, fillrange = meanPCNs.+stdPCNs, fillalpha = 0.1, c = \"red\", fillcolor=\"red\", linewidth=0.5)\n",
    "plot!(As, meanPCNs.+stdPCNs, c = \"red\", linewidth=0.5)\n",
    "\n",
    "# figname=pathFigures*\"Fig-7F.pdf\"\n",
    "# println(\"Saving figure $figname ..\")\n",
    "# savefig(p,figname)\n",
    "# display(p)\n"
   ]
  },
  {
   "cell_type": "markdown",
   "metadata": {
    "id": "kLxjuIMLqRK2"
   },
   "source": [
    "## Figure 1E"
   ]
  },
  {
   "cell_type": "code",
   "execution_count": null,
   "metadata": {
    "id": "7qDRAFMndnKb"
   },
   "outputs": [],
   "source": [
    "\n",
    "bins=collect(0:40)\n",
    "\n",
    "bin_edges=collect(0:1:30)\n",
    "cvipBGT=findall(x -> x == 0.25, cvs)[1]\n",
    "#pBGTcv=cvs[cvipBGT]\n",
    "\n",
    "#time_Pcounts_bins=normalize_FullTimeSeries(time_Pcounts,time_mins,bin_edges)\n",
    "\n",
    "\n",
    "cmr = cgrad(:reds)\n",
    "plot_icis=1:31\n",
    "meanPCNs=[]\n",
    "stdPCNs=[]\n",
    "As=[]\n",
    "ic_Pcounts=[]\n",
    "for ici in plot_icis\n",
    "    this_ic=ics[ici]\n",
    "\n",
    "    this_plasmids=pBGT_cv_ic_plasmids_alive[cvipBGT][ici]\n",
    "\n",
    "    this_meanPCN=mean(this_plasmids)\n",
    "    tp=[x for x in this_plasmids]\n",
    "\n",
    "    append!(meanPCNs, this_meanPCN)\n",
    "    push!(ic_Pcounts, this_plasmids)\n",
    "    #ic_Pcounts=hcat(ic_Pcounts, this_plasmids)\n",
    "    append!(As, this_ic)\n",
    "\n",
    "end\n",
    "\n",
    "as_Pcounts_bins=normalize_FullTimeSeries(ic_Pcounts,As,bin_edges)\n",
    ";\n"
   ]
  },
  {
   "cell_type": "code",
   "execution_count": null,
   "metadata": {
    "colab": {
     "base_uri": "https://localhost:8080/",
     "height": 469
    },
    "executionInfo": {
     "elapsed": 3891,
     "status": "ok",
     "timestamp": 1701879307998,
     "user": {
      "displayName": "J. Carlos R. Hernandez-Beltran",
      "userId": "15303466688252236754"
     },
     "user_tz": -60
    },
    "id": "LuWHk8-9Y8Eo",
    "outputId": "c3611df9-31d5-4c9d-f773-9a3580ee4e52"
   },
   "outputs": [
    {
     "name": "stdout",
     "output_type": "stream",
     "text": [
      "Saving figure /content/drive/MyDrive/SYNC_Projects/pBGT/GIT/figures/Fig-1E.pdf ..\n"
     ]
    },
    {
     "name": "stderr",
     "output_type": "stream",
     "text": [
      "sys:1: UserWarning: The following kwargs were not used by contour: 'label'\n"
     ]
    },
    {
     "data": {
      "image/png": "[encoded data removed]"
     },
     "metadata": {},
     "output_type": "display_data"
    },
    {
     "name": "stderr",
     "output_type": "stream",
     "text": [
      "sys:1: UserWarning: The following kwargs were not used by contour: 'label'\n"
     ]
    }
   ],
   "source": [
    "#%%julia\n",
    "\n",
    "colGRAD=cgrad([colorant\"white\",colorant\"blue\"])\n",
    "colGRAD=cgrad([colorant\"white\",colorant\"red\"])\n",
    "pdenmax=ceil(maximum(as_Pcounts_bins),digits=1)\n",
    "\n",
    "p=plot(As, meanPCNs, alpha=1,\n",
    "            xlabel = \"Antibiotic concentration (units of MIC)\", ylabel=\"PCN\",\n",
    "            color=\"black\", legend=:none, #line=-,\n",
    "            xtickfontsize=16,ytickfontsize=16,xguidefontsize=20,yguidefontsize=20,legendfontsize=16,\n",
    "            ylims = (15,30), xlims=(0, ics[last(plot_icis)]), grid=false, linewidth=2,label=false)\n",
    "#heatmap!(p,As,bin_edges,as_Pcounts_bins,colorbar=false, color=colGRAD,alpha=.75)\n",
    "contour!(p,As,bin_edges,as_Pcounts_bins,colorbar=false,fill=true,lw=0,label=false, color=colGRAD,alpha=.75, clim=(.01,pdenmax))\n",
    "\n",
    "vline!([1],linestyle=:dot,lw=3,linecolor=:black,label=false)\n",
    "\n",
    "figname=pathFigures*\"Fig-1E.pdf\"\n",
    "println(\"Saving figure $figname ..\")\n",
    "savefig(p,figname)\n",
    "display(p)\n",
    "closeall()\n",
    "\n"
   ]
  },
  {
   "cell_type": "markdown",
   "metadata": {
    "id": "CrLqAQa7q-fD"
   },
   "source": [
    "## Figure 1F"
   ]
  },
  {
   "cell_type": "markdown",
   "metadata": {
    "id": "n-8V9I6KvDZk"
   },
   "source": [
    "### Simulation parameters"
   ]
  },
  {
   "cell_type": "code",
   "execution_count": null,
   "metadata": {
    "colab": {
     "base_uri": "https://localhost:8080/"
    },
    "executionInfo": {
     "elapsed": 725,
     "status": "ok",
     "timestamp": 1701879334887,
     "user": {
      "displayName": "J. Carlos R. Hernandez-Beltran",
      "userId": "15303466688252236754"
     },
     "user_tz": -60
    },
    "id": "bLxK6i4jxe9j",
    "outputId": "e9c871ae-cb06-4cca-96a1-249a35a12fcd"
   },
   "outputs": [
    {
     "data": {
      "text/plain": [
       "0.6"
      ]
     },
     "execution_count": 96,
     "metadata": {},
     "output_type": "execute_result"
    }
   ],
   "source": [
    "Ndays=3\n",
    "\n",
    "T=60*6\n",
    "time_mins=collect(1:T)\n",
    "iniCells=1000 ############## dilution\n",
    "starting_variation=true\n",
    "\n",
    "sim_ICs=[0;collect(.25:.25:.75);collect(.8:.05:.9);collect(.925:.025:1)]\n",
    "cv=0.3\n",
    "p_Ndist=Normal(mu,mu*cv)\n",
    "kNoise_dist=Normal(0.,.001)\n",
    "\n",
    "@everywhere rep_delay=100\n",
    "antibiotic_action=.6"
   ]
  },
  {
   "cell_type": "markdown",
   "metadata": {
    "id": "ffAlyxdzvDZk"
   },
   "source": [
    "### Run simulations"
   ]
  },
  {
   "cell_type": "code",
   "execution_count": null,
   "metadata": {
    "id": "tbyfWBOKrQB3"
   },
   "outputs": [],
   "source": [
    "aA=0.\n",
    "R0=1.\n",
    "\n",
    "time_mins=collect(1:T)\n",
    "reDo_sim=false;\n",
    "#reDo_sim=true;\n",
    "\n",
    "if reDo_sim\n",
    "\n",
    "    for current_IC in sim_ICs\n",
    "        this_bst=Bacteria[]\n",
    "        this_bst=getInitialPopulation(iniCells, mu, 1,starting_variation);\n",
    "        lid=length(this_bst)\n",
    "        println(\"\\n\\nSim using IC-$(current_IC)\")\n",
    "        println(\"Time\\tTotal\\tResource         .\\tN alive\")\n",
    "\n",
    "        for day = 1:Ndays\n",
    "            R0=1.\n",
    "            aA=0.\n",
    "            lid=length(this_bst)\n",
    "            day==2 ? (aA=pMIC*current_IC;println(\"Introducing antibiotic\")) : 0\n",
    "            day==3 ? (aA=0.;println(\"Removing antibiotic\")) : 0\n",
    "            for ti in time_mins\n",
    "                if (ti%30==0)|(ti==1)\n",
    "                    tparam=0\n",
    "                    for b in this_bst\n",
    "                        b.isDead==false ? tparam+=1 : 0\n",
    "                    end\n",
    "                    println(ti/60,\"\\t\",length(this_bst),\"\\t\",R0,\"\\t\",tparam,\"\\t\",aA)\n",
    "                    flush(stdout)\n",
    "                end\n",
    "\n",
    "                R0,aA,lid=simulate(ti, this_bst, R0, aA,antibiotic_action,lid)\n",
    "\n",
    "            end\n",
    "            sim_file=pathDataLAL*\"Transfers_sim-$(T)min_IniCells-$(iniCells)_mu-$(Int(mu))_IC-$(current_IC)_day-$(day).bacsim\"\n",
    "            serialize(sim_file, this_bst);\n",
    "            tparam=0\n",
    "            for b in this_bst\n",
    "                b.isDead==false ? tparam+=1 : 0\n",
    "            end\n",
    "            tparam==0 ? (println(\"None survived, ending sim :(\");continue) : 0\n",
    "            day==Ndays ? continue : 0\n",
    "            #this_bst=sampleBs(this_bst,T,iniCells)\n",
    "            iniCells2=Int(ceil(tparam*.001))\n",
    "            this_bst=sampleBs(this_bst,T,iniCells2)\n",
    "        end\n",
    "    end\n",
    "\n",
    "\n",
    "end\n"
   ]
  },
  {
   "cell_type": "markdown",
   "metadata": {
    "id": "h3aIzrEIsVbu"
   },
   "source": [
    "### Analyse simulations\n",
    "#### Get plasmid time series  and save data"
   ]
  },
  {
   "cell_type": "code",
   "execution_count": null,
   "metadata": {
    "id": "FDVetbpksLEa"
   },
   "outputs": [],
   "source": [
    "\n",
    "\n",
    "Ndays=3\n",
    "time_mins=collect(1:T)\n",
    "\n",
    "reDo_analysis=false;\n",
    "#reDo_analysis=true;\n",
    "\n",
    "if reDo_analysis\n",
    "    println(sim_ICs)\n",
    "    for current_IC in sim_ICs\n",
    "        println(\"Analizyng ic $current_IC\")\n",
    "        for day=1:Ndays\n",
    "        #for day=2:2\n",
    "            sim_file=pathDataLAL*\"Transfers_sim-$(T)min_IniCells-$(iniCells)_mu-$(Int(mu))_IC-$(current_IC)_day-$(day).bacsim\"\n",
    "            analys_file=pathDataLAL*\"Transfers_p-timeSeries-$(T)min_IniCells-$(iniCells)_mu-$(Int(mu))_IC-$(current_IC)_day-$(day).bacsim\"\n",
    "            if(isfile(analys_file))\n",
    "                continue\n",
    "            end\n",
    "            println(\"\\tGetting file $(sim_file)\")\n",
    "            flush(stdout)\n",
    "            this_bst=deserialize(sim_file);\n",
    "            survivors=get_Pseries_survivours_indexs(this_bst)\n",
    "            killed=get_Pseries_killed_indexs(this_bst,1,time_mins[end])\n",
    "\n",
    "            println(\"\\tGot $(length(survivors)) founder survivors\")\n",
    "            println(\"\\tGot $(length(killed)) founders killed\")\n",
    "\n",
    "\n",
    "            println(\"\\tCounting simulation plasmids...\")\n",
    "            flush(stdout)\n",
    "            time_Pcounts=get_timePlamids(time_mins,this_bst)\n",
    "            analys_file=pathDataLAL*\"Transfers_p-timeSeries-$(T)min_IniCells-$(iniCells)_mu-$(Int(mu))_IC-$(current_IC)_day-$(day).bacsim\"\n",
    "            println(\"\\tSaving timeSeries file $(analys_file)\")\n",
    "            serialize(analys_file, time_Pcounts);\n",
    "            time_PcountsDiv=get_timePlamidsatDivisions(time_mins,this_bst)\n",
    "            analys_fileD=pathDataLAL*\"Transfers_p-timeSeriesDivs-$(T)min_IniCells-$(iniCells)_mu-$(Int(mu))_IC-$(current_IC)_day-$(day).bacsim\"\n",
    "            println(\"\\tSaving timeSeries file $(analys_fileD)\")\n",
    "            serialize(analys_fileD, time_PcountsDiv);\n",
    "            this_bst=[]\n",
    "            println(\"\\tDone\")\n",
    "        end\n",
    "    end\n",
    "end\n"
   ]
  },
  {
   "cell_type": "markdown",
   "metadata": {
    "id": "WbegWAZ-xe9m"
   },
   "source": [
    "### Read simulation analyzed data\n",
    "##### Join days plasmids time series"
   ]
  },
  {
   "cell_type": "code",
   "execution_count": null,
   "metadata": {
    "colab": {
     "base_uri": "https://localhost:8080/"
    },
    "executionInfo": {
     "elapsed": 49799,
     "status": "ok",
     "timestamp": 1701879398446,
     "user": {
      "displayName": "J. Carlos R. Hernandez-Beltran",
      "userId": "15303466688252236754"
     },
     "user_tz": -60
    },
    "id": "MuujQy1eOjGF",
    "outputId": "e3d1f731-ebdc-43e6-9e2f-dda6b716d032",
    "tags": []
   },
   "outputs": [
    {
     "name": "stdout",
     "output_type": "stream",
     "text": [
      "Reading /content/drive/MyDrive/SYNC_Projects/pBGT/GIT/data/sim_data/LB-AMP-LB/Transfers_p-timeSeries-360min_IniCells-1000_mu-19_IC-0.0_day-1.bacsim ...\n",
      "Reading /content/drive/MyDrive/SYNC_Projects/pBGT/GIT/data/sim_data/LB-AMP-LB/Transfers_p-timeSeriesDivs-360min_IniCells-1000_mu-19_IC-0.0_day-1.bacsim ...\n",
      "done!\n",
      "Reading /content/drive/MyDrive/SYNC_Projects/pBGT/GIT/data/sim_data/LB-AMP-LB/Transfers_p-timeSeries-360min_IniCells-1000_mu-19_IC-0.0_day-2.bacsim ...\n",
      "Reading /content/drive/MyDrive/SYNC_Projects/pBGT/GIT/data/sim_data/LB-AMP-LB/Transfers_p-timeSeriesDivs-360min_IniCells-1000_mu-19_IC-0.0_day-2.bacsim ...\n",
      "done!\n",
      "Reading /content/drive/MyDrive/SYNC_Projects/pBGT/GIT/data/sim_data/LB-AMP-LB/Transfers_p-timeSeries-360min_IniCells-1000_mu-19_IC-0.0_day-3.bacsim ...\n",
      "Reading /content/drive/MyDrive/SYNC_Projects/pBGT/GIT/data/sim_data/LB-AMP-LB/Transfers_p-timeSeriesDivs-360min_IniCells-1000_mu-19_IC-0.0_day-3.bacsim ...\n",
      "done!\n",
      "Reading /content/drive/MyDrive/SYNC_Projects/pBGT/GIT/data/sim_data/LB-AMP-LB/Transfers_p-timeSeries-360min_IniCells-1000_mu-19_IC-0.25_day-1.bacsim ...\n",
      "Reading /content/drive/MyDrive/SYNC_Projects/pBGT/GIT/data/sim_data/LB-AMP-LB/Transfers_p-timeSeriesDivs-360min_IniCells-1000_mu-19_IC-0.25_day-1.bacsim ...\n",
      "done!\n",
      "Reading /content/drive/MyDrive/SYNC_Projects/pBGT/GIT/data/sim_data/LB-AMP-LB/Transfers_p-timeSeries-360min_IniCells-1000_mu-19_IC-0.25_day-2.bacsim ...\n",
      "Reading /content/drive/MyDrive/SYNC_Projects/pBGT/GIT/data/sim_data/LB-AMP-LB/Transfers_p-timeSeriesDivs-360min_IniCells-1000_mu-19_IC-0.25_day-2.bacsim ...\n",
      "done!\n",
      "Reading /content/drive/MyDrive/SYNC_Projects/pBGT/GIT/data/sim_data/LB-AMP-LB/Transfers_p-timeSeries-360min_IniCells-1000_mu-19_IC-0.25_day-3.bacsim ...\n",
      "Reading /content/drive/MyDrive/SYNC_Projects/pBGT/GIT/data/sim_data/LB-AMP-LB/Transfers_p-timeSeriesDivs-360min_IniCells-1000_mu-19_IC-0.25_day-3.bacsim ...\n",
      "done!\n",
      "Reading /content/drive/MyDrive/SYNC_Projects/pBGT/GIT/data/sim_data/LB-AMP-LB/Transfers_p-timeSeries-360min_IniCells-1000_mu-19_IC-0.5_day-1.bacsim ...\n",
      "Reading /content/drive/MyDrive/SYNC_Projects/pBGT/GIT/data/sim_data/LB-AMP-LB/Transfers_p-timeSeriesDivs-360min_IniCells-1000_mu-19_IC-0.5_day-1.bacsim ...\n",
      "done!\n",
      "Reading /content/drive/MyDrive/SYNC_Projects/pBGT/GIT/data/sim_data/LB-AMP-LB/Transfers_p-timeSeries-360min_IniCells-1000_mu-19_IC-0.5_day-2.bacsim ...\n",
      "Reading /content/drive/MyDrive/SYNC_Projects/pBGT/GIT/data/sim_data/LB-AMP-LB/Transfers_p-timeSeriesDivs-360min_IniCells-1000_mu-19_IC-0.5_day-2.bacsim ...\n",
      "done!\n",
      "Reading /content/drive/MyDrive/SYNC_Projects/pBGT/GIT/data/sim_data/LB-AMP-LB/Transfers_p-timeSeries-360min_IniCells-1000_mu-19_IC-0.5_day-3.bacsim ...\n",
      "Reading /content/drive/MyDrive/SYNC_Projects/pBGT/GIT/data/sim_data/LB-AMP-LB/Transfers_p-timeSeriesDivs-360min_IniCells-1000_mu-19_IC-0.5_day-3.bacsim ...\n",
      "done!\n",
      "Reading /content/drive/MyDrive/SYNC_Projects/pBGT/GIT/data/sim_data/LB-AMP-LB/Transfers_p-timeSeries-360min_IniCells-1000_mu-19_IC-0.75_day-1.bacsim ...\n",
      "Reading /content/drive/MyDrive/SYNC_Projects/pBGT/GIT/data/sim_data/LB-AMP-LB/Transfers_p-timeSeriesDivs-360min_IniCells-1000_mu-19_IC-0.75_day-1.bacsim ...\n",
      "done!\n",
      "Reading /content/drive/MyDrive/SYNC_Projects/pBGT/GIT/data/sim_data/LB-AMP-LB/Transfers_p-timeSeries-360min_IniCells-1000_mu-19_IC-0.75_day-2.bacsim ...\n",
      "Reading /content/drive/MyDrive/SYNC_Projects/pBGT/GIT/data/sim_data/LB-AMP-LB/Transfers_p-timeSeriesDivs-360min_IniCells-1000_mu-19_IC-0.75_day-2.bacsim ...\n",
      "done!\n",
      "Reading /content/drive/MyDrive/SYNC_Projects/pBGT/GIT/data/sim_data/LB-AMP-LB/Transfers_p-timeSeries-360min_IniCells-1000_mu-19_IC-0.75_day-3.bacsim ...\n",
      "Reading /content/drive/MyDrive/SYNC_Projects/pBGT/GIT/data/sim_data/LB-AMP-LB/Transfers_p-timeSeriesDivs-360min_IniCells-1000_mu-19_IC-0.75_day-3.bacsim ...\n",
      "done!\n",
      "Reading /content/drive/MyDrive/SYNC_Projects/pBGT/GIT/data/sim_data/LB-AMP-LB/Transfers_p-timeSeries-360min_IniCells-1000_mu-19_IC-0.8_day-1.bacsim ...\n",
      "Reading /content/drive/MyDrive/SYNC_Projects/pBGT/GIT/data/sim_data/LB-AMP-LB/Transfers_p-timeSeriesDivs-360min_IniCells-1000_mu-19_IC-0.8_day-1.bacsim ...\n",
      "done!\n",
      "Reading /content/drive/MyDrive/SYNC_Projects/pBGT/GIT/data/sim_data/LB-AMP-LB/Transfers_p-timeSeries-360min_IniCells-1000_mu-19_IC-0.8_day-2.bacsim ...\n",
      "Reading /content/drive/MyDrive/SYNC_Projects/pBGT/GIT/data/sim_data/LB-AMP-LB/Transfers_p-timeSeriesDivs-360min_IniCells-1000_mu-19_IC-0.8_day-2.bacsim ...\n",
      "done!\n",
      "Reading /content/drive/MyDrive/SYNC_Projects/pBGT/GIT/data/sim_data/LB-AMP-LB/Transfers_p-timeSeries-360min_IniCells-1000_mu-19_IC-0.8_day-3.bacsim ...\n",
      "Reading /content/drive/MyDrive/SYNC_Projects/pBGT/GIT/data/sim_data/LB-AMP-LB/Transfers_p-timeSeriesDivs-360min_IniCells-1000_mu-19_IC-0.8_day-3.bacsim ...\n",
      "done!\n",
      "Reading /content/drive/MyDrive/SYNC_Projects/pBGT/GIT/data/sim_data/LB-AMP-LB/Transfers_p-timeSeries-360min_IniCells-1000_mu-19_IC-0.85_day-1.bacsim ...\n",
      "Reading /content/drive/MyDrive/SYNC_Projects/pBGT/GIT/data/sim_data/LB-AMP-LB/Transfers_p-timeSeriesDivs-360min_IniCells-1000_mu-19_IC-0.85_day-1.bacsim ...\n",
      "done!\n",
      "Reading /content/drive/MyDrive/SYNC_Projects/pBGT/GIT/data/sim_data/LB-AMP-LB/Transfers_p-timeSeries-360min_IniCells-1000_mu-19_IC-0.85_day-2.bacsim ...\n",
      "Reading /content/drive/MyDrive/SYNC_Projects/pBGT/GIT/data/sim_data/LB-AMP-LB/Transfers_p-timeSeriesDivs-360min_IniCells-1000_mu-19_IC-0.85_day-2.bacsim ...\n",
      "done!\n",
      "Reading /content/drive/MyDrive/SYNC_Projects/pBGT/GIT/data/sim_data/LB-AMP-LB/Transfers_p-timeSeries-360min_IniCells-1000_mu-19_IC-0.85_day-3.bacsim ...\n",
      "Reading /content/drive/MyDrive/SYNC_Projects/pBGT/GIT/data/sim_data/LB-AMP-LB/Transfers_p-timeSeriesDivs-360min_IniCells-1000_mu-19_IC-0.85_day-3.bacsim ...\n",
      "done!\n",
      "Reading /content/drive/MyDrive/SYNC_Projects/pBGT/GIT/data/sim_data/LB-AMP-LB/Transfers_p-timeSeries-360min_IniCells-1000_mu-19_IC-0.9_day-1.bacsim ...\n",
      "Reading /content/drive/MyDrive/SYNC_Projects/pBGT/GIT/data/sim_data/LB-AMP-LB/Transfers_p-timeSeriesDivs-360min_IniCells-1000_mu-19_IC-0.9_day-1.bacsim ...\n",
      "done!\n",
      "Reading /content/drive/MyDrive/SYNC_Projects/pBGT/GIT/data/sim_data/LB-AMP-LB/Transfers_p-timeSeries-360min_IniCells-1000_mu-19_IC-0.9_day-2.bacsim ...\n",
      "Reading /content/drive/MyDrive/SYNC_Projects/pBGT/GIT/data/sim_data/LB-AMP-LB/Transfers_p-timeSeriesDivs-360min_IniCells-1000_mu-19_IC-0.9_day-2.bacsim ...\n",
      "done!\n",
      "Reading /content/drive/MyDrive/SYNC_Projects/pBGT/GIT/data/sim_data/LB-AMP-LB/Transfers_p-timeSeries-360min_IniCells-1000_mu-19_IC-0.9_day-3.bacsim ...\n",
      "Reading /content/drive/MyDrive/SYNC_Projects/pBGT/GIT/data/sim_data/LB-AMP-LB/Transfers_p-timeSeriesDivs-360min_IniCells-1000_mu-19_IC-0.9_day-3.bacsim ...\n",
      "done!\n",
      "Reading /content/drive/MyDrive/SYNC_Projects/pBGT/GIT/data/sim_data/LB-AMP-LB/Transfers_p-timeSeries-360min_IniCells-1000_mu-19_IC-0.925_day-1.bacsim ...\n",
      "Reading /content/drive/MyDrive/SYNC_Projects/pBGT/GIT/data/sim_data/LB-AMP-LB/Transfers_p-timeSeriesDivs-360min_IniCells-1000_mu-19_IC-0.925_day-1.bacsim ...\n",
      "done!\n",
      "Reading /content/drive/MyDrive/SYNC_Projects/pBGT/GIT/data/sim_data/LB-AMP-LB/Transfers_p-timeSeries-360min_IniCells-1000_mu-19_IC-0.925_day-2.bacsim ...\n",
      "Reading /content/drive/MyDrive/SYNC_Projects/pBGT/GIT/data/sim_data/LB-AMP-LB/Transfers_p-timeSeriesDivs-360min_IniCells-1000_mu-19_IC-0.925_day-2.bacsim ...\n",
      "done!\n",
      "Reading /content/drive/MyDrive/SYNC_Projects/pBGT/GIT/data/sim_data/LB-AMP-LB/Transfers_p-timeSeries-360min_IniCells-1000_mu-19_IC-0.925_day-3.bacsim ...\n",
      "Reading /content/drive/MyDrive/SYNC_Projects/pBGT/GIT/data/sim_data/LB-AMP-LB/Transfers_p-timeSeriesDivs-360min_IniCells-1000_mu-19_IC-0.925_day-3.bacsim ...\n",
      "done!\n",
      "Reading /content/drive/MyDrive/SYNC_Projects/pBGT/GIT/data/sim_data/LB-AMP-LB/Transfers_p-timeSeries-360min_IniCells-1000_mu-19_IC-0.95_day-1.bacsim ...\n",
      "Reading /content/drive/MyDrive/SYNC_Projects/pBGT/GIT/data/sim_data/LB-AMP-LB/Transfers_p-timeSeriesDivs-360min_IniCells-1000_mu-19_IC-0.95_day-1.bacsim ...\n",
      "done!\n",
      "Reading /content/drive/MyDrive/SYNC_Projects/pBGT/GIT/data/sim_data/LB-AMP-LB/Transfers_p-timeSeries-360min_IniCells-1000_mu-19_IC-0.95_day-2.bacsim ...\n",
      "Reading /content/drive/MyDrive/SYNC_Projects/pBGT/GIT/data/sim_data/LB-AMP-LB/Transfers_p-timeSeriesDivs-360min_IniCells-1000_mu-19_IC-0.95_day-2.bacsim ...\n",
      "done!\n",
      "Reading /content/drive/MyDrive/SYNC_Projects/pBGT/GIT/data/sim_data/LB-AMP-LB/Transfers_p-timeSeries-360min_IniCells-1000_mu-19_IC-0.95_day-3.bacsim ...\n",
      "Reading /content/drive/MyDrive/SYNC_Projects/pBGT/GIT/data/sim_data/LB-AMP-LB/Transfers_p-timeSeriesDivs-360min_IniCells-1000_mu-19_IC-0.95_day-3.bacsim ...\n",
      "done!\n",
      "Reading /content/drive/MyDrive/SYNC_Projects/pBGT/GIT/data/sim_data/LB-AMP-LB/Transfers_p-timeSeries-360min_IniCells-1000_mu-19_IC-0.975_day-1.bacsim ...\n",
      "Reading /content/drive/MyDrive/SYNC_Projects/pBGT/GIT/data/sim_data/LB-AMP-LB/Transfers_p-timeSeriesDivs-360min_IniCells-1000_mu-19_IC-0.975_day-1.bacsim ...\n",
      "done!\n",
      "Reading /content/drive/MyDrive/SYNC_Projects/pBGT/GIT/data/sim_data/LB-AMP-LB/Transfers_p-timeSeries-360min_IniCells-1000_mu-19_IC-0.975_day-2.bacsim ...\n",
      "Reading /content/drive/MyDrive/SYNC_Projects/pBGT/GIT/data/sim_data/LB-AMP-LB/Transfers_p-timeSeriesDivs-360min_IniCells-1000_mu-19_IC-0.975_day-2.bacsim ...\n",
      "done!\n",
      "Reading /content/drive/MyDrive/SYNC_Projects/pBGT/GIT/data/sim_data/LB-AMP-LB/Transfers_p-timeSeries-360min_IniCells-1000_mu-19_IC-0.975_day-3.bacsim ...\n",
      "Reading /content/drive/MyDrive/SYNC_Projects/pBGT/GIT/data/sim_data/LB-AMP-LB/Transfers_p-timeSeriesDivs-360min_IniCells-1000_mu-19_IC-0.975_day-3.bacsim ...\n",
      "done!\n",
      "Reading /content/drive/MyDrive/SYNC_Projects/pBGT/GIT/data/sim_data/LB-AMP-LB/Transfers_p-timeSeries-360min_IniCells-1000_mu-19_IC-1.0_day-1.bacsim ...\n",
      "Reading /content/drive/MyDrive/SYNC_Projects/pBGT/GIT/data/sim_data/LB-AMP-LB/Transfers_p-timeSeriesDivs-360min_IniCells-1000_mu-19_IC-1.0_day-1.bacsim ...\n",
      "done!\n",
      "Reading /content/drive/MyDrive/SYNC_Projects/pBGT/GIT/data/sim_data/LB-AMP-LB/Transfers_p-timeSeries-360min_IniCells-1000_mu-19_IC-1.0_day-2.bacsim ...\n",
      "Reading /content/drive/MyDrive/SYNC_Projects/pBGT/GIT/data/sim_data/LB-AMP-LB/Transfers_p-timeSeriesDivs-360min_IniCells-1000_mu-19_IC-1.0_day-2.bacsim ...\n",
      "done!\n",
      "Reading /content/drive/MyDrive/SYNC_Projects/pBGT/GIT/data/sim_data/LB-AMP-LB/Transfers_p-timeSeries-360min_IniCells-1000_mu-19_IC-1.0_day-3.bacsim ...\n",
      "Reading /content/drive/MyDrive/SYNC_Projects/pBGT/GIT/data/sim_data/LB-AMP-LB/Transfers_p-timeSeriesDivs-360min_IniCells-1000_mu-19_IC-1.0_day-3.bacsim ...\n",
      "done!\n"
     ]
    }
   ],
   "source": [
    "\n",
    "MNdays_time_Pcounts=[]\n",
    "MNdays_time_PcountsDiv=[]\n",
    "Ndays_time_mins=collect(1:time_mins[end]*Ndays)\n",
    "\n",
    "for current_IC in sim_ICs\n",
    "    Ndays_time_Pcounts=[]\n",
    "    Ndays_time_PcountsDiv=[]\n",
    "\n",
    "    time_Pcounts=[]\n",
    "    for day=1:Ndays\n",
    "        analys_file=pathDataLAL*\"Transfers_p-timeSeries-$(T)min_IniCells-$(iniCells)_mu-$(Int(mu))_IC-$(current_IC)_day-$(day).bacsim\"\n",
    "        println(\"Reading $analys_file ...\")\n",
    "        flush(stdout)\n",
    "        time_Pcounts=deserialize(analys_file);\n",
    "        analys_fileD=pathDataLAL*\"Transfers_p-timeSeriesDivs-$(T)min_IniCells-$(iniCells)_mu-$(Int(mu))_IC-$(current_IC)_day-$(day).bacsim\"\n",
    "        println(\"Reading $analys_fileD ...\")\n",
    "        flush(stdout)\n",
    "        time_PcountsDiv=deserialize(analys_fileD);\n",
    "        println(\"done!\")\n",
    "        flush(stdout)\n",
    "        Ndays_time_Pcounts=vcat(Ndays_time_Pcounts,time_Pcounts)\n",
    "        Ndays_time_PcountsDiv=vcat(Ndays_time_PcountsDiv,time_PcountsDiv)\n",
    "        GC.gc()\n",
    "    end\n",
    "    push!(MNdays_time_Pcounts,Ndays_time_Pcounts)\n",
    "    push!(MNdays_time_PcountsDiv,Ndays_time_PcountsDiv)\n",
    "end\n",
    "\n"
   ]
  },
  {
   "cell_type": "markdown",
   "metadata": {
    "id": "mJdGZDENmiSD"
   },
   "source": [
    "### Getting plasmid time series distributions"
   ]
  },
  {
   "cell_type": "code",
   "execution_count": null,
   "metadata": {
    "id": "37-CKNKBxe9n"
   },
   "outputs": [],
   "source": [
    "MNtime_Pcounts_bins=[]\n",
    "MNtime_PcountsDiv_bins=[]\n",
    "MNtime_Pcounts_binsNormed=[]\n",
    "MNtime_PcountsDiv_binsNormed=[]\n",
    "\n",
    "bin_edges=[0;collect(10:3:34)]\n",
    "bin_edges=[0;collect(10:3:41)]\n",
    "\n",
    "\n",
    "for (Ndays_time_Pcounts,Ndays_time_PcountsDiv) in zip(MNdays_time_Pcounts,MNdays_time_PcountsDiv)\n",
    "    norm=false\n",
    "    Ntime_Pcounts_bins=binarize_timePcounts(Ndays_time_Pcounts,Ndays_time_mins,bin_edges,norm)\n",
    "    Ntime_PcountsDiv_bins=binarize_timePcounts(Ndays_time_PcountsDiv,Ndays_time_mins,bin_edges,norm)\n",
    "\n",
    "    norm=true\n",
    "    Ntime_Pcounts_binsNormed=binarize_timePcounts(Ndays_time_Pcounts,Ndays_time_mins,bin_edges,norm)\n",
    "    Ntime_PcountsDiv_binsNormed=binarize_timePcounts(Ndays_time_PcountsDiv,Ndays_time_mins,bin_edges,norm)\n",
    "\n",
    "    push!(MNtime_Pcounts_bins,Ntime_Pcounts_bins)\n",
    "    push!(MNtime_PcountsDiv_bins,Ntime_PcountsDiv_bins)\n",
    "    push!(MNtime_Pcounts_binsNormed,Ntime_Pcounts_binsNormed)\n",
    "    push!(MNtime_PcountsDiv_binsNormed,Ntime_PcountsDiv_binsNormed)\n",
    "end\n",
    "\n"
   ]
  },
  {
   "cell_type": "markdown",
   "metadata": {
    "id": "WS1xoV6nxe9o"
   },
   "source": [
    "### Plot Figure 1F"
   ]
  },
  {
   "cell_type": "code",
   "execution_count": null,
   "metadata": {
    "colab": {
     "base_uri": "https://localhost:8080/",
     "height": 133
    },
    "executionInfo": {
     "elapsed": 1654,
     "status": "ok",
     "timestamp": 1701879405256,
     "user": {
      "displayName": "J. Carlos R. Hernandez-Beltran",
      "userId": "15303466688252236754"
     },
     "user_tz": -60
    },
    "id": "1uDUpfKExe9o",
    "outputId": "8a174476-ec3c-444d-ab00-8e5cd9e838ec",
    "tags": []
   },
   "outputs": [
    {
     "name": "stdout",
     "output_type": "stream",
     "text": [
      "360\n"
     ]
    },
    {
     "data": {
      "image/svg+xml": [
       "<?xml version=\"1.0\" encoding=\"UTF-8\"?>\n",
       "<!DOCTYPE svg PUBLIC \"-//W3C//DTD SVG 1.1//EN\"\n",
       " \"http://www.w3.org/Graphics/SVG/1.1/DTD/svg11.dtd\">\n",
       "<svg xmlns=\"http://www.w3.org/2000/svg\" version=\"1.1\"\n",
       "     width=\"180mm\" height=\"25mm\" viewBox=\"0 0 100 1\" stroke=\"none\"\n",
       "     preserveAspectRatio=\"none\" shape-rendering=\"crispEdges\">\n",
       "<defs>\n",
       "    <pattern id=\"pat_1Mlr7o\" width=\".2\" height=\".2\"\n",
       "             patternUnits=\"userSpaceOnUse\" patternTransform=\"scale(13.889,1)\" >\n",
       "        <path d=\"M.1,0h.1v.1h-.2v.1h.1z\" fill=\"#999\" opacity=\".5\" />\n",
       "    </pattern>\n",
       "</defs>\n",
       "<rect width=\"100\" height=\"1\" fill=\"url(#pat_1Mlr7o)\" />\n",
       "<path d=\"M1,.46V1h-1V.54z\" fill=\"#FFFFE0\" />\n",
       "<path d=\"M0,0h1v1h-1z\" fill=\"#FFFFE0\" fill-opacity=\"1\" />\n",
       "<path d=\"M2,.46V1h-1V.54z\" fill=\"#FFFDDB\" />\n",
       "<path d=\"M1,0h1v1h-1z\" fill=\"#FFFDDB\" fill-opacity=\"1\" />\n",
       "<path d=\"M3,.46V1h-1V.54z\" fill=\"#FFFBD7\" />\n",
       "<path d=\"M2,0h1v1h-1z\" fill=\"#FFFBD7\" fill-opacity=\"1\" />\n",
       "<path d=\"M4,.46V1h-1V.54z\" fill=\"#FFFAD2\" />\n",
       "<path d=\"M3,0h1v1h-1z\" fill=\"#FFFAD2\" fill-opacity=\"1\" />\n",
       "<path d=\"M5,.46V1h-1V.54z\" fill=\"#FFF8CE\" />\n",
       "<path d=\"M4,0h1v1h-1z\" fill=\"#FFF8CE\" fill-opacity=\"1\" />\n",
       "<path d=\"M6,.46V1h-1V.54z\" fill=\"#FFF6C9\" />\n",
       "<path d=\"M5,0h1v1h-1z\" fill=\"#FFF6C9\" fill-opacity=\"1\" />\n",
       "<path d=\"M7,.46V1h-1V.54z\" fill=\"#FFF4C5\" />\n",
       "<path d=\"M6,0h1v1h-1z\" fill=\"#FFF4C5\" fill-opacity=\"1\" />\n",
       "<path d=\"M8,.46V1h-1V.54z\" fill=\"#FFF2C0\" />\n",
       "<path d=\"M7,0h1v1h-1z\" fill=\"#FFF2C0\" fill-opacity=\"1\" />\n",
       "<path d=\"M9,.46V1h-1V.54z\" fill=\"#FFF0BC\" />\n",
       "<path d=\"M8,0h1v1h-1z\" fill=\"#FFF0BC\" fill-opacity=\"1\" />\n",
       "<path d=\"M10,.46V1h-1V.54z\" fill=\"#FFEFB7\" />\n",
       "<path d=\"M9,0h1v1h-1z\" fill=\"#FFEFB7\" fill-opacity=\"1\" />\n",
       "<path d=\"M11,.46V1h-1V.54z\" fill=\"#FFEDB3\" />\n",
       "<path d=\"M10,0h1v1h-1z\" fill=\"#FFEDB3\" fill-opacity=\"1\" />\n",
       "<path d=\"M12,.46V1h-1V.54z\" fill=\"#FFEBAE\" />\n",
       "<path d=\"M11,0h1v1h-1z\" fill=\"#FFEBAE\" fill-opacity=\"1\" />\n",
       "<path d=\"M13,.46V1h-1V.54z\" fill=\"#FFE9AA\" />\n",
       "<path d=\"M12,0h1v1h-1z\" fill=\"#FFE9AA\" fill-opacity=\"1\" />\n",
       "<path d=\"M14,.46V1h-1V.54z\" fill=\"#FFE7A5\" />\n",
       "<path d=\"M13,0h1v1h-1z\" fill=\"#FFE7A5\" fill-opacity=\"1\" />\n",
       "<path d=\"M15,.46V1h-1V.54z\" fill=\"#FFE6A1\" />\n",
       "<path d=\"M14,0h1v1h-1z\" fill=\"#FFE6A1\" fill-opacity=\"1\" />\n",
       "<path d=\"M16,.46V1h-1V.54z\" fill=\"#FFE49C\" />\n",
       "<path d=\"M15,0h1v1h-1z\" fill=\"#FFE49C\" fill-opacity=\"1\" />\n",
       "<path d=\"M17,.46V1h-1V.54z\" fill=\"#FFE298\" />\n",
       "<path d=\"M16,0h1v1h-1z\" fill=\"#FFE298\" fill-opacity=\"1\" />\n",
       "<path d=\"M18,.46V1h-1V.54z\" fill=\"#FFE093\" />\n",
       "<path d=\"M17,0h1v1h-1z\" fill=\"#FFE093\" fill-opacity=\"1\" />\n",
       "<path d=\"M19,.46V1h-1V.54z\" fill=\"#FFDE8F\" />\n",
       "<path d=\"M18,0h1v1h-1z\" fill=\"#FFDE8F\" fill-opacity=\"1\" />\n",
       "<path d=\"M20,.46V1h-1V.54z\" fill=\"#FFDC8A\" />\n",
       "<path d=\"M19,0h1v1h-1z\" fill=\"#FFDC8A\" fill-opacity=\"1\" />\n",
       "<path d=\"M21,.46V1h-1V.54z\" fill=\"#FFDB85\" />\n",
       "<path d=\"M20,0h1v1h-1z\" fill=\"#FFDB85\" fill-opacity=\"1\" />\n",
       "<path d=\"M22,.46V1h-1V.54z\" fill=\"#FFD981\" />\n",
       "<path d=\"M21,0h1v1h-1z\" fill=\"#FFD981\" fill-opacity=\"1\" />\n",
       "<path d=\"M23,.46V1h-1V.54z\" fill=\"#FFD77C\" />\n",
       "<path d=\"M22,0h1v1h-1z\" fill=\"#FFD77C\" fill-opacity=\"1\" />\n",
       "<path d=\"M24,.46V1h-1V.54z\" fill=\"#FFD578\" />\n",
       "<path d=\"M23,0h1v1h-1z\" fill=\"#FFD578\" fill-opacity=\"1\" />\n",
       "<path d=\"M25,.46V1h-1V.54z\" fill=\"#FFD373\" />\n",
       "<path d=\"M24,0h1v1h-1z\" fill=\"#FFD373\" fill-opacity=\"1\" />\n",
       "<path d=\"M26,.46V1h-1V.54z\" fill=\"#FFD26F\" />\n",
       "<path d=\"M25,0h1v1h-1z\" fill=\"#FFD26F\" fill-opacity=\"1\" />\n",
       "<path d=\"M27,.46V1h-1V.54z\" fill=\"#FFD06A\" />\n",
       "<path d=\"M26,0h1v1h-1z\" fill=\"#FFD06A\" fill-opacity=\"1\" />\n",
       "<path d=\"M28,.46V1h-1V.54z\" fill=\"#FFCE66\" />\n",
       "<path d=\"M27,0h1v1h-1z\" fill=\"#FFCE66\" fill-opacity=\"1\" />\n",
       "<path d=\"M29,.46V1h-1V.54z\" fill=\"#FFCC61\" />\n",
       "<path d=\"M28,0h1v1h-1z\" fill=\"#FFCC61\" fill-opacity=\"1\" />\n",
       "<path d=\"M30,.46V1h-1V.54z\" fill=\"#FFCA5D\" />\n",
       "<path d=\"M29,0h1v1h-1z\" fill=\"#FFCA5D\" fill-opacity=\"1\" />\n",
       "<path d=\"M31,.46V1h-1V.54z\" fill=\"#FFC858\" />\n",
       "<path d=\"M30,0h1v1h-1z\" fill=\"#FFC858\" fill-opacity=\"1\" />\n",
       "<path d=\"M32,.46V1h-1V.54z\" fill=\"#FFC754\" />\n",
       "<path d=\"M31,0h1v1h-1z\" fill=\"#FFC754\" fill-opacity=\"1\" />\n",
       "<path d=\"M33,.46V1h-1V.54z\" fill=\"#FFC54F\" />\n",
       "<path d=\"M32,0h1v1h-1z\" fill=\"#FFC54F\" fill-opacity=\"1\" />\n",
       "<path d=\"M34,.46V1h-1V.54z\" fill=\"#FFC34B\" />\n",
       "<path d=\"M33,0h1v1h-1z\" fill=\"#FFC34B\" fill-opacity=\"1\" />\n",
       "<path d=\"M35,.46V1h-1V.54z\" fill=\"#FFC146\" />\n",
       "<path d=\"M34,0h1v1h-1z\" fill=\"#FFC146\" fill-opacity=\"1\" />\n",
       "<path d=\"M36,.46V1h-1V.54z\" fill=\"#FFBF42\" />\n",
       "<path d=\"M35,0h1v1h-1z\" fill=\"#FFBF42\" fill-opacity=\"1\" />\n",
       "<path d=\"M37,.46V1h-1V.54z\" fill=\"#FFBE3D\" />\n",
       "<path d=\"M36,0h1v1h-1z\" fill=\"#FFBE3D\" fill-opacity=\"1\" />\n",
       "<path d=\"M38,.46V1h-1V.54z\" fill=\"#FFBC39\" />\n",
       "<path d=\"M37,0h1v1h-1z\" fill=\"#FFBC39\" fill-opacity=\"1\" />\n",
       "<path d=\"M39,.46V1h-1V.54z\" fill=\"#FFBA34\" />\n",
       "<path d=\"M38,0h1v1h-1z\" fill=\"#FFBA34\" fill-opacity=\"1\" />\n",
       "<path d=\"M40,.46V1h-1V.54z\" fill=\"#FFB830\" />\n",
       "<path d=\"M39,0h1v1h-1z\" fill=\"#FFB830\" fill-opacity=\"1\" />\n",
       "<path d=\"M41,.46V1h-1V.54z\" fill=\"#FFB62B\" />\n",
       "<path d=\"M40,0h1v1h-1z\" fill=\"#FFB62B\" fill-opacity=\"1\" />\n",
       "<path d=\"M42,.46V1h-1V.54z\" fill=\"#FFB426\" />\n",
       "<path d=\"M41,0h1v1h-1z\" fill=\"#FFB426\" fill-opacity=\"1\" />\n",
       "<path d=\"M43,.46V1h-1V.54z\" fill=\"#FFB322\" />\n",
       "<path d=\"M42,0h1v1h-1z\" fill=\"#FFB322\" fill-opacity=\"1\" />\n",
       "<path d=\"M44,.46V1h-1V.54z\" fill=\"#FFB11D\" />\n",
       "<path d=\"M43,0h1v1h-1z\" fill=\"#FFB11D\" fill-opacity=\"1\" />\n",
       "<path d=\"M45,.46V1h-1V.54z\" fill=\"#FFAF19\" />\n",
       "<path d=\"M44,0h1v1h-1z\" fill=\"#FFAF19\" fill-opacity=\"1\" />\n",
       "<path d=\"M46,.46V1h-1V.54z\" fill=\"#FFAD14\" />\n",
       "<path d=\"M45,0h1v1h-1z\" fill=\"#FFAD14\" fill-opacity=\"1\" />\n",
       "<path d=\"M47,.46V1h-1V.54z\" fill=\"#FFAB10\" />\n",
       "<path d=\"M46,0h1v1h-1z\" fill=\"#FFAB10\" fill-opacity=\"1\" />\n",
       "<path d=\"M48,.46V1h-1V.54z\" fill=\"#FFAA0B\" />\n",
       "<path d=\"M47,0h1v1h-1z\" fill=\"#FFAA0B\" fill-opacity=\"1\" />\n",
       "<path d=\"M49,.46V1h-1V.54z\" fill=\"#FFA807\" />\n",
       "<path d=\"M48,0h1v1h-1z\" fill=\"#FFA807\" fill-opacity=\"1\" />\n",
       "<path d=\"M50,.46V1h-1V.54z\" fill=\"#FFA602\" />\n",
       "<path d=\"M49,0h1v1h-1z\" fill=\"#FFA602\" fill-opacity=\"1\" />\n",
       "<path d=\"M51,.46V1h-1V.54z\" fill=\"#FEA300\" />\n",
       "<path d=\"M50,0h1v1h-1z\" fill=\"#FEA300\" fill-opacity=\"1\" />\n",
       "<path d=\"M52,.46V1h-1V.54z\" fill=\"#FBA000\" />\n",
       "<path d=\"M51,0h1v1h-1z\" fill=\"#FBA000\" fill-opacity=\"1\" />\n",
       "<path d=\"M53,.46V1h-1V.54z\" fill=\"#F99D00\" />\n",
       "<path d=\"M52,0h1v1h-1z\" fill=\"#F99D00\" fill-opacity=\"1\" />\n",
       "<path d=\"M54,.46V1h-1V.54z\" fill=\"#F79900\" />\n",
       "<path d=\"M53,0h1v1h-1z\" fill=\"#F79900\" fill-opacity=\"1\" />\n",
       "<path d=\"M55,.46V1h-1V.54z\" fill=\"#F49600\" />\n",
       "<path d=\"M54,0h1v1h-1z\" fill=\"#F49600\" fill-opacity=\"1\" />\n",
       "<path d=\"M56,.46V1h-1V.54z\" fill=\"#F29300\" />\n",
       "<path d=\"M55,0h1v1h-1z\" fill=\"#F29300\" fill-opacity=\"1\" />\n",
       "<path d=\"M57,.46V1h-1V.54z\" fill=\"#F08F00\" />\n",
       "<path d=\"M56,0h1v1h-1z\" fill=\"#F08F00\" fill-opacity=\"1\" />\n",
       "<path d=\"M58,.46V1h-1V.54z\" fill=\"#ED8C00\" />\n",
       "<path d=\"M57,0h1v1h-1z\" fill=\"#ED8C00\" fill-opacity=\"1\" />\n",
       "<path d=\"M59,.46V1h-1V.54z\" fill=\"#EB8900\" />\n",
       "<path d=\"M58,0h1v1h-1z\" fill=\"#EB8900\" fill-opacity=\"1\" />\n",
       "<path d=\"M60,.46V1h-1V.54z\" fill=\"#E98500\" />\n",
       "<path d=\"M59,0h1v1h-1z\" fill=\"#E98500\" fill-opacity=\"1\" />\n",
       "<path d=\"M61,.46V1h-1V.54z\" fill=\"#E68200\" />\n",
       "<path d=\"M60,0h1v1h-1z\" fill=\"#E68200\" fill-opacity=\"1\" />\n",
       "<path d=\"M62,.46V1h-1V.54z\" fill=\"#E47F00\" />\n",
       "<path d=\"M61,0h1v1h-1z\" fill=\"#E47F00\" fill-opacity=\"1\" />\n",
       "<path d=\"M63,.46V1h-1V.54z\" fill=\"#E27B00\" />\n",
       "<path d=\"M62,0h1v1h-1z\" fill=\"#E27B00\" fill-opacity=\"1\" />\n",
       "<path d=\"M64,.46V1h-1V.54z\" fill=\"#DF7800\" />\n",
       "<path d=\"M63,0h1v1h-1z\" fill=\"#DF7800\" fill-opacity=\"1\" />\n",
       "<path d=\"M65,.46V1h-1V.54z\" fill=\"#DD7500\" />\n",
       "<path d=\"M64,0h1v1h-1z\" fill=\"#DD7500\" fill-opacity=\"1\" />\n",
       "<path d=\"M66,.46V1h-1V.54z\" fill=\"#DB7100\" />\n",
       "<path d=\"M65,0h1v1h-1z\" fill=\"#DB7100\" fill-opacity=\"1\" />\n",
       "<path d=\"M67,.46V1h-1V.54z\" fill=\"#D86E00\" />\n",
       "<path d=\"M66,0h1v1h-1z\" fill=\"#D86E00\" fill-opacity=\"1\" />\n",
       "<path d=\"M68,.46V1h-1V.54z\" fill=\"#D66B00\" />\n",
       "<path d=\"M67,0h1v1h-1z\" fill=\"#D66B00\" fill-opacity=\"1\" />\n",
       "<path d=\"M69,.46V1h-1V.54z\" fill=\"#D46700\" />\n",
       "<path d=\"M68,0h1v1h-1z\" fill=\"#D46700\" fill-opacity=\"1\" />\n",
       "<path d=\"M70,.46V1h-1V.54z\" fill=\"#D16400\" />\n",
       "<path d=\"M69,0h1v1h-1z\" fill=\"#D16400\" fill-opacity=\"1\" />\n",
       "<path d=\"M71,.46V1h-1V.54z\" fill=\"#CF6100\" />\n",
       "<path d=\"M70,0h1v1h-1z\" fill=\"#CF6100\" fill-opacity=\"1\" />\n",
       "<path d=\"M72,.46V1h-1V.54z\" fill=\"#CD5D00\" />\n",
       "<path d=\"M71,0h1v1h-1z\" fill=\"#CD5D00\" fill-opacity=\"1\" />\n",
       "<path d=\"M73,.46V1h-1V.54z\" fill=\"#CA5A00\" />\n",
       "<path d=\"M72,0h1v1h-1z\" fill=\"#CA5A00\" fill-opacity=\"1\" />\n",
       "<path d=\"M74,.46V1h-1V.54z\" fill=\"#C85700\" />\n",
       "<path d=\"M73,0h1v1h-1z\" fill=\"#C85700\" fill-opacity=\"1\" />\n",
       "<path d=\"M75,.46V1h-1V.54z\" fill=\"#C65300\" />\n",
       "<path d=\"M74,0h1v1h-1z\" fill=\"#C65300\" fill-opacity=\"1\" />\n",
       "<path d=\"M76,.46V1h-1V.54z\" fill=\"#C35000\" />\n",
       "<path d=\"M75,0h1v1h-1z\" fill=\"#C35000\" fill-opacity=\"1\" />\n",
       "<path d=\"M77,.46V1h-1V.54z\" fill=\"#C14D00\" />\n",
       "<path d=\"M76,0h1v1h-1z\" fill=\"#C14D00\" fill-opacity=\"1\" />\n",
       "<path d=\"M78,.46V1h-1V.54z\" fill=\"#BF4900\" />\n",
       "<path d=\"M77,0h1v1h-1z\" fill=\"#BF4900\" fill-opacity=\"1\" />\n",
       "<path d=\"M79,.46V1h-1V.54z\" fill=\"#BC4600\" />\n",
       "<path d=\"M78,0h1v1h-1z\" fill=\"#BC4600\" fill-opacity=\"1\" />\n",
       "<path d=\"M80,.46V1h-1V.54z\" fill=\"#BA4300\" />\n",
       "<path d=\"M79,0h1v1h-1z\" fill=\"#BA4300\" fill-opacity=\"1\" />\n",
       "<path d=\"M81,.46V1h-1V.54z\" fill=\"#B83F00\" />\n",
       "<path d=\"M80,0h1v1h-1z\" fill=\"#B83F00\" fill-opacity=\"1\" />\n",
       "<path d=\"M82,.46V1h-1V.54z\" fill=\"#B53C00\" />\n",
       "<path d=\"M81,0h1v1h-1z\" fill=\"#B53C00\" fill-opacity=\"1\" />\n",
       "<path d=\"M83,.46V1h-1V.54z\" fill=\"#B33900\" />\n",
       "<path d=\"M82,0h1v1h-1z\" fill=\"#B33900\" fill-opacity=\"1\" />\n",
       "<path d=\"M84,.46V1h-1V.54z\" fill=\"#B03500\" />\n",
       "<path d=\"M83,0h1v1h-1z\" fill=\"#B03500\" fill-opacity=\"1\" />\n",
       "<path d=\"M85,.46V1h-1V.54z\" fill=\"#AE3200\" />\n",
       "<path d=\"M84,0h1v1h-1z\" fill=\"#AE3200\" fill-opacity=\"1\" />\n",
       "<path d=\"M86,.46V1h-1V.54z\" fill=\"#AC2F00\" />\n",
       "<path d=\"M85,0h1v1h-1z\" fill=\"#AC2F00\" fill-opacity=\"1\" />\n",
       "<path d=\"M87,.46V1h-1V.54z\" fill=\"#A92B00\" />\n",
       "<path d=\"M86,0h1v1h-1z\" fill=\"#A92B00\" fill-opacity=\"1\" />\n",
       "<path d=\"M88,.46V1h-1V.54z\" fill=\"#A72800\" />\n",
       "<path d=\"M87,0h1v1h-1z\" fill=\"#A72800\" fill-opacity=\"1\" />\n",
       "<path d=\"M89,.46V1h-1V.54z\" fill=\"#A52500\" />\n",
       "<path d=\"M88,0h1v1h-1z\" fill=\"#A52500\" fill-opacity=\"1\" />\n",
       "<path d=\"M90,.46V1h-1V.54z\" fill=\"#A22100\" />\n",
       "<path d=\"M89,0h1v1h-1z\" fill=\"#A22100\" fill-opacity=\"1\" />\n",
       "<path d=\"M91,.46V1h-1V.54z\" fill=\"#A01E00\" />\n",
       "<path d=\"M90,0h1v1h-1z\" fill=\"#A01E00\" fill-opacity=\"1\" />\n",
       "<path d=\"M92,.46V1h-1V.54z\" fill=\"#9E1B00\" />\n",
       "<path d=\"M91,0h1v1h-1z\" fill=\"#9E1B00\" fill-opacity=\"1\" />\n",
       "<path d=\"M93,.46V1h-1V.54z\" fill=\"#9B1700\" />\n",
       "<path d=\"M92,0h1v1h-1z\" fill=\"#9B1700\" fill-opacity=\"1\" />\n",
       "<path d=\"M94,.46V1h-1V.54z\" fill=\"#991400\" />\n",
       "<path d=\"M93,0h1v1h-1z\" fill=\"#991400\" fill-opacity=\"1\" />\n",
       "<path d=\"M95,.46V1h-1V.54z\" fill=\"#971100\" />\n",
       "<path d=\"M94,0h1v1h-1z\" fill=\"#971100\" fill-opacity=\"1\" />\n",
       "<path d=\"M96,.46V1h-1V.54z\" fill=\"#940D00\" />\n",
       "<path d=\"M95,0h1v1h-1z\" fill=\"#940D00\" fill-opacity=\"1\" />\n",
       "<path d=\"M97,.46V1h-1V.54z\" fill=\"#920A00\" />\n",
       "<path d=\"M96,0h1v1h-1z\" fill=\"#920A00\" fill-opacity=\"1\" />\n",
       "<path d=\"M98,.46V1h-1V.54z\" fill=\"#900700\" />\n",
       "<path d=\"M97,0h1v1h-1z\" fill=\"#900700\" fill-opacity=\"1\" />\n",
       "<path d=\"M99,.46V1h-1V.54z\" fill=\"#8D0300\" />\n",
       "<path d=\"M98,0h1v1h-1z\" fill=\"#8D0300\" fill-opacity=\"1\" />\n",
       "<path d=\"M100,.46V1h-1V.54z\" fill=\"#8B0000\" />\n",
       "<path d=\"M99,0h1v1h-1z\" fill=\"#8B0000\" fill-opacity=\"1\" />\n",
       "</svg>"
      ],
      "text/plain": [
       "PlotUtils.ContinuousColorGradient(ColorSchemes.ColorScheme{Vector{RGBA{Float64}}, String, String}(RGBA{Float64}[RGBA{Float64}(1.0,1.0,0.8784313725490196,1.0), RGBA{Float64}(1.0,0.9294117647058824,0.7027450980392157,1.0), RGBA{Float64}(1.0,0.8588235294117648,0.5270588235294118,1.0), RGBA{Float64}(1.0,0.788235294117647,0.35137254901960774,1.0), RGBA{Float64}(1.0,0.7176470588235294,0.17568627450980387,1.0), RGBA{Float64}(1.0,0.6470588235294118,0.0,1.0), RGBA{Float64}(0.9090196078431372,0.5176470588235293,0.0,1.0), RGBA{Float64}(0.8180392156862746,0.3882352941176471,0.0,1.0), RGBA{Float64}(0.7270588235294118,0.2588235294117647,0.0,1.0), RGBA{Float64}(0.636078431372549,0.12941176470588248,0.0,1.0), RGBA{Float64}(0.5450980392156862,0.0,0.0,1.0)], \"\", \"\"), [0.0, 0.1, 0.2, 0.3, 0.4, 0.5, 0.6, 0.7, 0.8, 0.9, 1.0])"
      ]
     },
     "execution_count": 101,
     "metadata": {},
     "output_type": "execute_result"
    }
   ],
   "source": [
    "##### sim_ICs=collect(.5:.1:1)\n",
    "\n",
    "\n",
    "tend=Int(time_mins[end])\n",
    "th=6\n",
    "tpp=Int(60*th)\n",
    "println(tend)\n",
    "\n",
    "\n",
    "thisEndDict=1\n",
    "Ndays=3\n",
    "\n",
    "function getThisDictMean(thisEndDict0)\n",
    "    pcncells=0\n",
    "    ncels=0\n",
    "    for (pcn,timespcn) in sort(collect(thisEndDict0))\n",
    "        #println(pcn,\"-\",timespcn)\n",
    "        st=pcn*timespcn\n",
    "        #st>0 ? (pcncells+=st;ncels+=timespcn) : 0\n",
    "        timespcn>0 ? (pcncells+=st;ncels+=timespcn) : 0\n",
    "\n",
    "    end\n",
    "    thismean=(pcncells/ncels)\n",
    "\n",
    "end\n",
    "\n",
    "ncolors=length(sim_ICs)\n",
    "tcgrad=cgrad(:heat,ncolors )# )\n",
    "\n"
   ]
  },
  {
   "cell_type": "code",
   "execution_count": null,
   "metadata": {
    "colab": {
     "base_uri": "https://localhost:8080/",
     "height": 442
    },
    "executionInfo": {
     "elapsed": 1890,
     "status": "ok",
     "timestamp": 1701881388432,
     "user": {
      "displayName": "J. Carlos R. Hernandez-Beltran",
      "userId": "15303466688252236754"
     },
     "user_tz": -60
    },
    "id": "ofTowoqRe_EH",
    "outputId": "a8bdae49-d540-4e1a-e819-f5751924c35e"
   },
   "outputs": [
    {
     "name": "stdout",
     "output_type": "stream",
     "text": [
      "[\"sans-serif\"]\n",
      "/content/drive/MyDrive/SYNC_Projects/pBGT/GIT/figures/Fig-1F.pdf"
     ]
    },
    {
     "data": {
      "image/png": "[encoded data removed]",
      "text/plain": [
       "PyPlot.Figure(PyObject <Figure size 600x400 with 2 Axes>)"
      ]
     },
     "metadata": {},
     "output_type": "display_data"
    }
   ],
   "source": [
    "\n",
    "c_m = mpl.cm.YlOrRd\n",
    "normp = mpl.colors.Normalize(vmin=np.min(sim_ICs),vmax=np.max(sim_ICs)+.05)\n",
    "s_mp = mpl.cm.ScalarMappable(cmap=c_m, norm=normp)\n",
    "s_mp.set_array([])\n",
    "\n",
    "\n",
    "fig,ax=plt.subplots(figsize=(6,4))\n",
    "plt.rcParams[\"font.size\"]= 16\n",
    "fig.set_facecolor(\"white\")\n",
    "fontfam=plt.rcParams[\"font.family\"]\n",
    "println(fontfam)\n",
    "ax.axvspan(xmin=1.5, xmax=2.5,ymin=0, ymax=1, color=\"red\",alpha=0.2,zorder=0)\n",
    "\n",
    "for (i,Ndays_time_Pcounts) in enumerate(MNdays_time_Pcounts)\n",
    "    thisICmeans=[]\n",
    "    thisIC=sim_ICs[i]\n",
    "    tc=s_mp.to_rgba(thisIC)\n",
    "    tc=s_mp.to_rgba(i/length(sim_ICs))\n",
    "    for day=1:Ndays\n",
    "        tfinal=tend*(day-1)+tpp\n",
    "        #println(tfinal)\n",
    "        thisEndDict=Ndays_time_Pcounts[tfinal]\n",
    "        #display(thisEndDict[0])\n",
    "        tm=getThisDictMean(thisEndDict)\n",
    "        #print(tm)\n",
    "        push!(thisICmeans,tm)\n",
    "    end\n",
    "    plt.plot([1,2,3],thisICmeans,label=false,c=tc,lw=3 )\n",
    "    plt.scatter([1,2,3], thisICmeans,color=tc,s=30)\n",
    "end\n",
    "\n",
    "ax.spines[\"top\"].set_visible(false)\n",
    "ax.spines[\"right\"].set_visible(false)\n",
    "\n",
    "\n",
    "#normp = mpl.colors.Normalize(vmin=np.min(sim_ICs)-.05,vmax=np.max(sim_ICs)+.05)\n",
    "#s_mp = mpl.cm.ScalarMappable(cmap=c_m, norm=normp)\n",
    "#s_mp.set_array([])\n",
    "\n",
    "\n",
    "\n",
    "cbar=plt.colorbar(s_mp,shrink=.95,fraction=.1,pad=.025)\n",
    "cbar.ax.set_ylabel(\"Drug concentration \\n(units of MIC)\",fontsize=16)\n",
    "\n",
    "#color number trick\n",
    "cbtick=[0,0.125,.25,0.375,.5,0.6125,.7125,0.8,.9,1]\n",
    "cbtickl=[\"0\",\"1/128\",\"1/64\",\"1/32\",\"1/16\",\"1/8\",\"1/4\",\"1/2\",\"1\",\"2\"]\n",
    "\n",
    "cbar.ax.set_yticks(cbtick)\n",
    "cbar.ax.set_yticklabels(cbtickl,fontsize=12)\n",
    "\n",
    "plt.ylim([18,22])\n",
    "plt.yticks([18,19,20,21,22],fontsize=12)\n",
    "\n",
    "plt.xlabel(\"Time (seasons)\",fontsize=16);\n",
    "plt.ylabel(\"PCN\",fontsize=16);\n",
    "plt.xticks([1,2,3],fontsize=16)\n",
    "plt.tight_layout()\n",
    "\n",
    "figname=pathFigures*\"Fig-1F.pdf\"\n",
    "print(figname)\n",
    "plt.savefig(figname,bbox_inches = \"tight\",pad_inches = 0.1)\n",
    "plt.show()\n"
   ]
  }
 ],
 "metadata": {
  "colab": {
   "authorship_tag": "ABX9TyNfrnLBkIPxc2RIrvgpWA9K",
   "provenance": [],
   "toc_visible": true
  },
  "kernelspec": {
   "display_name": "Julia 1.8.4",
   "language": "julia",
   "name": "julia-1.8"
  },
  "language_info": {
   "file_extension": ".jl",
   "mimetype": "application/julia",
   "name": "julia",
   "version": "1.8.4"
  }
 },
 "nbformat": 4,
 "nbformat_minor": 4
}
